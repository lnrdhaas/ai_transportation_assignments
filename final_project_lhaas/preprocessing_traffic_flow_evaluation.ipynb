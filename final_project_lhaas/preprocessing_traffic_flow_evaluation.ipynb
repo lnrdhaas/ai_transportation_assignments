{
 "cells": [
  {
   "cell_type": "code",
   "execution_count": 1,
   "metadata": {},
   "outputs": [],
   "source": [
    "import pandas as pd\n",
    "import plotly.express as px\n"
   ]
  },
  {
   "cell_type": "markdown",
   "metadata": {},
   "source": [
    "## Exploratory Analysis"
   ]
  },
  {
   "cell_type": "code",
   "execution_count": 2,
   "metadata": {},
   "outputs": [
    {
     "data": {
      "text/html": [
       "<div>\n",
       "<style scoped>\n",
       "    .dataframe tbody tr th:only-of-type {\n",
       "        vertical-align: middle;\n",
       "    }\n",
       "\n",
       "    .dataframe tbody tr th {\n",
       "        vertical-align: top;\n",
       "    }\n",
       "\n",
       "    .dataframe thead th {\n",
       "        text-align: right;\n",
       "    }\n",
       "</style>\n",
       "<table border=\"1\" class=\"dataframe\">\n",
       "  <thead>\n",
       "    <tr style=\"text-align: right;\">\n",
       "      <th></th>\n",
       "      <th>DP_ID</th>\n",
       "      <th>PORTAL</th>\n",
       "      <th>Date</th>\n",
       "      <th>Time</th>\n",
       "      <th>Interval_1</th>\n",
       "      <th>Interval_5</th>\n",
       "      <th>Interval_15</th>\n",
       "      <th>Interval_30</th>\n",
       "      <th>Interval_60</th>\n",
       "      <th>SPEED_MS_AVG</th>\n",
       "      <th>FLOW</th>\n",
       "    </tr>\n",
       "  </thead>\n",
       "  <tbody>\n",
       "    <tr>\n",
       "      <th>0</th>\n",
       "      <td>4872</td>\n",
       "      <td>E4S 56,780</td>\n",
       "      <td>20220105</td>\n",
       "      <td>04:00:00</td>\n",
       "      <td>240</td>\n",
       "      <td>48</td>\n",
       "      <td>16</td>\n",
       "      <td>8</td>\n",
       "      <td>4</td>\n",
       "      <td>17.50</td>\n",
       "      <td>1.0</td>\n",
       "    </tr>\n",
       "    <tr>\n",
       "      <th>1</th>\n",
       "      <td>4430</td>\n",
       "      <td>E4S 57,435</td>\n",
       "      <td>20220105</td>\n",
       "      <td>04:00:00</td>\n",
       "      <td>240</td>\n",
       "      <td>48</td>\n",
       "      <td>16</td>\n",
       "      <td>8</td>\n",
       "      <td>4</td>\n",
       "      <td>24.44</td>\n",
       "      <td>1.0</td>\n",
       "    </tr>\n",
       "    <tr>\n",
       "      <th>2</th>\n",
       "      <td>4436</td>\n",
       "      <td>E4S 57,820</td>\n",
       "      <td>20220105</td>\n",
       "      <td>04:00:00</td>\n",
       "      <td>240</td>\n",
       "      <td>48</td>\n",
       "      <td>16</td>\n",
       "      <td>8</td>\n",
       "      <td>4</td>\n",
       "      <td>23.61</td>\n",
       "      <td>1.0</td>\n",
       "    </tr>\n",
       "    <tr>\n",
       "      <th>3</th>\n",
       "      <td>1079</td>\n",
       "      <td>E4S 56,780</td>\n",
       "      <td>20220105</td>\n",
       "      <td>04:00:00</td>\n",
       "      <td>240</td>\n",
       "      <td>48</td>\n",
       "      <td>16</td>\n",
       "      <td>8</td>\n",
       "      <td>4</td>\n",
       "      <td>23.75</td>\n",
       "      <td>2.0</td>\n",
       "    </tr>\n",
       "    <tr>\n",
       "      <th>4</th>\n",
       "      <td>1076</td>\n",
       "      <td>E4S 55,620</td>\n",
       "      <td>20220105</td>\n",
       "      <td>04:00:00</td>\n",
       "      <td>240</td>\n",
       "      <td>48</td>\n",
       "      <td>16</td>\n",
       "      <td>8</td>\n",
       "      <td>4</td>\n",
       "      <td>21.30</td>\n",
       "      <td>3.0</td>\n",
       "    </tr>\n",
       "    <tr>\n",
       "      <th>...</th>\n",
       "      <td>...</td>\n",
       "      <td>...</td>\n",
       "      <td>...</td>\n",
       "      <td>...</td>\n",
       "      <td>...</td>\n",
       "      <td>...</td>\n",
       "      <td>...</td>\n",
       "      <td>...</td>\n",
       "      <td>...</td>\n",
       "      <td>...</td>\n",
       "      <td>...</td>\n",
       "    </tr>\n",
       "    <tr>\n",
       "      <th>803496</th>\n",
       "      <td>1079</td>\n",
       "      <td>E4S 56,780</td>\n",
       "      <td>20220630</td>\n",
       "      <td>10:00:00</td>\n",
       "      <td>600</td>\n",
       "      <td>120</td>\n",
       "      <td>40</td>\n",
       "      <td>20</td>\n",
       "      <td>10</td>\n",
       "      <td>16.77</td>\n",
       "      <td>20.0</td>\n",
       "    </tr>\n",
       "    <tr>\n",
       "      <th>803497</th>\n",
       "      <td>1443</td>\n",
       "      <td>E4S 57,055</td>\n",
       "      <td>20220630</td>\n",
       "      <td>10:00:00</td>\n",
       "      <td>600</td>\n",
       "      <td>120</td>\n",
       "      <td>40</td>\n",
       "      <td>20</td>\n",
       "      <td>10</td>\n",
       "      <td>20.94</td>\n",
       "      <td>24.0</td>\n",
       "    </tr>\n",
       "    <tr>\n",
       "      <th>803498</th>\n",
       "      <td>902</td>\n",
       "      <td>E4S 56,490</td>\n",
       "      <td>20220630</td>\n",
       "      <td>10:00:00</td>\n",
       "      <td>600</td>\n",
       "      <td>120</td>\n",
       "      <td>40</td>\n",
       "      <td>20</td>\n",
       "      <td>10</td>\n",
       "      <td>18.21</td>\n",
       "      <td>19.0</td>\n",
       "    </tr>\n",
       "    <tr>\n",
       "      <th>803499</th>\n",
       "      <td>1076</td>\n",
       "      <td>E4S 55,620</td>\n",
       "      <td>20220630</td>\n",
       "      <td>10:00:00</td>\n",
       "      <td>600</td>\n",
       "      <td>120</td>\n",
       "      <td>40</td>\n",
       "      <td>20</td>\n",
       "      <td>10</td>\n",
       "      <td>17.53</td>\n",
       "      <td>22.0</td>\n",
       "    </tr>\n",
       "    <tr>\n",
       "      <th>803500</th>\n",
       "      <td>1254</td>\n",
       "      <td>E4S 55,620</td>\n",
       "      <td>20220630</td>\n",
       "      <td>10:00:00</td>\n",
       "      <td>600</td>\n",
       "      <td>120</td>\n",
       "      <td>40</td>\n",
       "      <td>20</td>\n",
       "      <td>10</td>\n",
       "      <td>21.13</td>\n",
       "      <td>24.0</td>\n",
       "    </tr>\n",
       "  </tbody>\n",
       "</table>\n",
       "<p>803501 rows × 11 columns</p>\n",
       "</div>"
      ],
      "text/plain": [
       "        DP_ID      PORTAL      Date      Time  Interval_1  Interval_5  \\\n",
       "0        4872  E4S 56,780  20220105  04:00:00         240          48   \n",
       "1        4430  E4S 57,435  20220105  04:00:00         240          48   \n",
       "2        4436  E4S 57,820  20220105  04:00:00         240          48   \n",
       "3        1079  E4S 56,780  20220105  04:00:00         240          48   \n",
       "4        1076  E4S 55,620  20220105  04:00:00         240          48   \n",
       "...       ...         ...       ...       ...         ...         ...   \n",
       "803496   1079  E4S 56,780  20220630  10:00:00         600         120   \n",
       "803497   1443  E4S 57,055  20220630  10:00:00         600         120   \n",
       "803498    902  E4S 56,490  20220630  10:00:00         600         120   \n",
       "803499   1076  E4S 55,620  20220630  10:00:00         600         120   \n",
       "803500   1254  E4S 55,620  20220630  10:00:00         600         120   \n",
       "\n",
       "        Interval_15  Interval_30  Interval_60  SPEED_MS_AVG  FLOW  \n",
       "0                16            8            4         17.50   1.0  \n",
       "1                16            8            4         24.44   1.0  \n",
       "2                16            8            4         23.61   1.0  \n",
       "3                16            8            4         23.75   2.0  \n",
       "4                16            8            4         21.30   3.0  \n",
       "...             ...          ...          ...           ...   ...  \n",
       "803496           40           20           10         16.77  20.0  \n",
       "803497           40           20           10         20.94  24.0  \n",
       "803498           40           20           10         18.21  19.0  \n",
       "803499           40           20           10         17.53  22.0  \n",
       "803500           40           20           10         21.13  24.0  \n",
       "\n",
       "[803501 rows x 11 columns]"
      ]
     },
     "execution_count": 2,
     "metadata": {},
     "output_type": "execute_result"
    }
   ],
   "source": [
    "training_df =  pd.read_csv(\"../Data/dataset_for_traffic_project_assignment/training_dataset.csv\", sep=\";\")\n",
    "\n",
    "evaluation_df = pd.read_csv(\"../Data/dataset_for_traffic_project_assignment/evaluation_dataset.csv\", sep=\";\")\n",
    "\n",
    "final_df = pd.read_csv(\"../Data/dataset_for_traffic_project_assignment/final_evaluation_dataset.csv\", sep=\";\")\n",
    "\n",
    "final_df"
   ]
  },
  {
   "cell_type": "code",
   "execution_count": 3,
   "metadata": {},
   "outputs": [
    {
     "name": "stdout",
     "output_type": "stream",
     "text": [
      "Number of unique PORTAL entries: 8\n"
     ]
    }
   ],
   "source": [
    "unique_count = final_df[\"PORTAL\"].nunique()\n",
    "print(\"Number of unique PORTAL entries:\", unique_count)\n",
    "\n"
   ]
  },
  {
   "cell_type": "code",
   "execution_count": 4,
   "metadata": {},
   "outputs": [
    {
     "name": "stderr",
     "output_type": "stream",
     "text": [
      "/var/folders/ww/hnj0z7l577b2_jzdg6515pfm0000gn/T/ipykernel_9646/1113987364.py:2: UserWarning: Boolean Series key will be reindexed to match DataFrame index.\n",
      "  plot_evaluation_df = evaluation_df[:1000][evaluation_df[\"PORTAL\"] == \"E4S 55,620\"]\n"
     ]
    },
    {
     "name": "stdout",
     "output_type": "stream",
     "text": [
      "Number of unique dp_ids per portal: 3\n"
     ]
    },
    {
     "data": {
      "application/vnd.plotly.v1+json": {
       "config": {
        "plotlyServerURL": "https://plot.ly"
       },
       "data": [
        {
         "hovertemplate": "Metric=FLOW<br>datetime=%{x}<br>Value=%{y}<extra></extra>",
         "legendgroup": "FLOW",
         "marker": {
          "color": "#636efa",
          "symbol": "circle"
         },
         "mode": "markers",
         "name": "FLOW",
         "orientation": "v",
         "showlegend": true,
         "type": "scatter",
         "x": [
          "2022-01-01T04:00:00",
          "2022-01-01T04:00:00",
          "2022-01-01T04:00:00",
          "2022-01-01T04:01:00",
          "2022-01-01T04:01:00",
          "2022-01-01T04:01:00",
          "2022-01-01T04:02:00",
          "2022-01-01T04:02:00",
          "2022-01-01T04:03:00",
          "2022-01-01T04:04:00",
          "2022-01-01T04:04:00",
          "2022-01-01T04:05:00",
          "2022-01-01T04:05:00",
          "2022-01-01T04:06:00",
          "2022-01-01T04:06:00",
          "2022-01-01T04:07:00",
          "2022-01-01T04:07:00",
          "2022-01-01T04:08:00",
          "2022-01-01T04:08:00",
          "2022-01-01T04:08:00",
          "2022-01-01T04:09:00",
          "2022-01-01T04:09:00",
          "2022-01-01T04:10:00",
          "2022-01-01T04:10:00",
          "2022-01-01T04:10:00",
          "2022-01-01T04:11:00",
          "2022-01-01T04:11:00",
          "2022-01-01T04:12:00",
          "2022-01-01T04:12:00",
          "2022-01-01T04:12:00",
          "2022-01-01T04:13:00",
          "2022-01-01T04:13:00",
          "2022-01-01T04:13:00",
          "2022-01-01T04:14:00",
          "2022-01-01T04:14:00",
          "2022-01-01T04:15:00",
          "2022-01-01T04:15:00",
          "2022-01-01T04:16:00",
          "2022-01-01T04:16:00",
          "2022-01-01T04:16:00",
          "2022-01-01T04:17:00",
          "2022-01-01T04:17:00",
          "2022-01-01T04:18:00",
          "2022-01-01T04:18:00",
          "2022-01-01T04:18:00",
          "2022-01-01T04:19:00",
          "2022-01-01T04:19:00",
          "2022-01-01T04:20:00",
          "2022-01-01T04:20:00",
          "2022-01-01T04:21:00",
          "2022-01-01T04:21:00",
          "2022-01-01T04:21:00",
          "2022-01-01T04:22:00",
          "2022-01-01T04:22:00",
          "2022-01-01T04:22:00",
          "2022-01-01T04:23:00",
          "2022-01-01T04:23:00",
          "2022-01-01T04:23:00",
          "2022-01-01T04:24:00",
          "2022-01-01T04:24:00",
          "2022-01-01T04:25:00",
          "2022-01-01T04:25:00",
          "2022-01-01T04:26:00",
          "2022-01-01T04:26:00",
          "2022-01-01T04:26:00",
          "2022-01-01T04:27:00",
          "2022-01-01T04:27:00",
          "2022-01-01T04:28:00",
          "2022-01-01T04:28:00",
          "2022-01-01T04:29:00",
          "2022-01-01T04:29:00",
          "2022-01-01T04:30:00",
          "2022-01-01T04:30:00",
          "2022-01-01T04:30:00",
          "2022-01-01T04:31:00",
          "2022-01-01T04:31:00",
          "2022-01-01T04:31:00",
          "2022-01-01T04:32:00",
          "2022-01-01T04:32:00",
          "2022-01-01T04:32:00",
          "2022-01-01T04:33:00",
          "2022-01-01T04:33:00",
          "2022-01-01T04:34:00",
          "2022-01-01T04:34:00",
          "2022-01-01T04:34:00",
          "2022-01-01T04:35:00",
          "2022-01-01T04:35:00",
          "2022-01-01T04:35:00",
          "2022-01-01T04:36:00",
          "2022-01-01T04:36:00",
          "2022-01-01T04:36:00",
          "2022-01-01T04:37:00",
          "2022-01-01T04:37:00",
          "2022-01-01T04:38:00",
          "2022-01-01T04:38:00",
          "2022-01-01T04:39:00",
          "2022-01-01T04:39:00",
          "2022-01-01T04:39:00",
          "2022-01-01T04:40:00",
          "2022-01-01T04:41:00",
          "2022-01-01T04:41:00",
          "2022-01-01T04:41:00",
          "2022-01-01T04:42:00",
          "2022-01-01T04:42:00",
          "2022-01-01T04:43:00",
          "2022-01-01T04:43:00",
          "2022-01-01T04:43:00",
          "2022-01-01T04:44:00",
          "2022-01-01T04:44:00"
         ],
         "xaxis": "x",
         "y": [
          1,
          4,
          7,
          4,
          4,
          1,
          3,
          4,
          3,
          3,
          4,
          3,
          2,
          6,
          7,
          2,
          4,
          1,
          4,
          3,
          1,
          2,
          3,
          1,
          1,
          4,
          5,
          1,
          5,
          1,
          1,
          3,
          2,
          4,
          3,
          2,
          3,
          2,
          4,
          1,
          1,
          5,
          3,
          5,
          2,
          5,
          9,
          2,
          2,
          2,
          4,
          1,
          1,
          5,
          4,
          1,
          3,
          1,
          4,
          2,
          2,
          6,
          1,
          2,
          3,
          1,
          4,
          1,
          8,
          2,
          6,
          1,
          5,
          8,
          2,
          4,
          1,
          1,
          2,
          5,
          1,
          5,
          2,
          2,
          8,
          4,
          9,
          3,
          2,
          2,
          6,
          1,
          6,
          2,
          6,
          6,
          3,
          1,
          3,
          5,
          2,
          1,
          2,
          5,
          3,
          3,
          1,
          3,
          7
         ],
         "yaxis": "y"
        }
       ],
       "layout": {
        "legend": {
         "title": {
          "text": "Metric"
         },
         "tracegroupgap": 0
        },
        "template": {
         "data": {
          "bar": [
           {
            "error_x": {
             "color": "#2a3f5f"
            },
            "error_y": {
             "color": "#2a3f5f"
            },
            "marker": {
             "line": {
              "color": "#E5ECF6",
              "width": 0.5
             },
             "pattern": {
              "fillmode": "overlay",
              "size": 10,
              "solidity": 0.2
             }
            },
            "type": "bar"
           }
          ],
          "barpolar": [
           {
            "marker": {
             "line": {
              "color": "#E5ECF6",
              "width": 0.5
             },
             "pattern": {
              "fillmode": "overlay",
              "size": 10,
              "solidity": 0.2
             }
            },
            "type": "barpolar"
           }
          ],
          "carpet": [
           {
            "aaxis": {
             "endlinecolor": "#2a3f5f",
             "gridcolor": "white",
             "linecolor": "white",
             "minorgridcolor": "white",
             "startlinecolor": "#2a3f5f"
            },
            "baxis": {
             "endlinecolor": "#2a3f5f",
             "gridcolor": "white",
             "linecolor": "white",
             "minorgridcolor": "white",
             "startlinecolor": "#2a3f5f"
            },
            "type": "carpet"
           }
          ],
          "choropleth": [
           {
            "colorbar": {
             "outlinewidth": 0,
             "ticks": ""
            },
            "type": "choropleth"
           }
          ],
          "contour": [
           {
            "colorbar": {
             "outlinewidth": 0,
             "ticks": ""
            },
            "colorscale": [
             [
              0,
              "#0d0887"
             ],
             [
              0.1111111111111111,
              "#46039f"
             ],
             [
              0.2222222222222222,
              "#7201a8"
             ],
             [
              0.3333333333333333,
              "#9c179e"
             ],
             [
              0.4444444444444444,
              "#bd3786"
             ],
             [
              0.5555555555555556,
              "#d8576b"
             ],
             [
              0.6666666666666666,
              "#ed7953"
             ],
             [
              0.7777777777777778,
              "#fb9f3a"
             ],
             [
              0.8888888888888888,
              "#fdca26"
             ],
             [
              1,
              "#f0f921"
             ]
            ],
            "type": "contour"
           }
          ],
          "contourcarpet": [
           {
            "colorbar": {
             "outlinewidth": 0,
             "ticks": ""
            },
            "type": "contourcarpet"
           }
          ],
          "heatmap": [
           {
            "colorbar": {
             "outlinewidth": 0,
             "ticks": ""
            },
            "colorscale": [
             [
              0,
              "#0d0887"
             ],
             [
              0.1111111111111111,
              "#46039f"
             ],
             [
              0.2222222222222222,
              "#7201a8"
             ],
             [
              0.3333333333333333,
              "#9c179e"
             ],
             [
              0.4444444444444444,
              "#bd3786"
             ],
             [
              0.5555555555555556,
              "#d8576b"
             ],
             [
              0.6666666666666666,
              "#ed7953"
             ],
             [
              0.7777777777777778,
              "#fb9f3a"
             ],
             [
              0.8888888888888888,
              "#fdca26"
             ],
             [
              1,
              "#f0f921"
             ]
            ],
            "type": "heatmap"
           }
          ],
          "heatmapgl": [
           {
            "colorbar": {
             "outlinewidth": 0,
             "ticks": ""
            },
            "colorscale": [
             [
              0,
              "#0d0887"
             ],
             [
              0.1111111111111111,
              "#46039f"
             ],
             [
              0.2222222222222222,
              "#7201a8"
             ],
             [
              0.3333333333333333,
              "#9c179e"
             ],
             [
              0.4444444444444444,
              "#bd3786"
             ],
             [
              0.5555555555555556,
              "#d8576b"
             ],
             [
              0.6666666666666666,
              "#ed7953"
             ],
             [
              0.7777777777777778,
              "#fb9f3a"
             ],
             [
              0.8888888888888888,
              "#fdca26"
             ],
             [
              1,
              "#f0f921"
             ]
            ],
            "type": "heatmapgl"
           }
          ],
          "histogram": [
           {
            "marker": {
             "pattern": {
              "fillmode": "overlay",
              "size": 10,
              "solidity": 0.2
             }
            },
            "type": "histogram"
           }
          ],
          "histogram2d": [
           {
            "colorbar": {
             "outlinewidth": 0,
             "ticks": ""
            },
            "colorscale": [
             [
              0,
              "#0d0887"
             ],
             [
              0.1111111111111111,
              "#46039f"
             ],
             [
              0.2222222222222222,
              "#7201a8"
             ],
             [
              0.3333333333333333,
              "#9c179e"
             ],
             [
              0.4444444444444444,
              "#bd3786"
             ],
             [
              0.5555555555555556,
              "#d8576b"
             ],
             [
              0.6666666666666666,
              "#ed7953"
             ],
             [
              0.7777777777777778,
              "#fb9f3a"
             ],
             [
              0.8888888888888888,
              "#fdca26"
             ],
             [
              1,
              "#f0f921"
             ]
            ],
            "type": "histogram2d"
           }
          ],
          "histogram2dcontour": [
           {
            "colorbar": {
             "outlinewidth": 0,
             "ticks": ""
            },
            "colorscale": [
             [
              0,
              "#0d0887"
             ],
             [
              0.1111111111111111,
              "#46039f"
             ],
             [
              0.2222222222222222,
              "#7201a8"
             ],
             [
              0.3333333333333333,
              "#9c179e"
             ],
             [
              0.4444444444444444,
              "#bd3786"
             ],
             [
              0.5555555555555556,
              "#d8576b"
             ],
             [
              0.6666666666666666,
              "#ed7953"
             ],
             [
              0.7777777777777778,
              "#fb9f3a"
             ],
             [
              0.8888888888888888,
              "#fdca26"
             ],
             [
              1,
              "#f0f921"
             ]
            ],
            "type": "histogram2dcontour"
           }
          ],
          "mesh3d": [
           {
            "colorbar": {
             "outlinewidth": 0,
             "ticks": ""
            },
            "type": "mesh3d"
           }
          ],
          "parcoords": [
           {
            "line": {
             "colorbar": {
              "outlinewidth": 0,
              "ticks": ""
             }
            },
            "type": "parcoords"
           }
          ],
          "pie": [
           {
            "automargin": true,
            "type": "pie"
           }
          ],
          "scatter": [
           {
            "fillpattern": {
             "fillmode": "overlay",
             "size": 10,
             "solidity": 0.2
            },
            "type": "scatter"
           }
          ],
          "scatter3d": [
           {
            "line": {
             "colorbar": {
              "outlinewidth": 0,
              "ticks": ""
             }
            },
            "marker": {
             "colorbar": {
              "outlinewidth": 0,
              "ticks": ""
             }
            },
            "type": "scatter3d"
           }
          ],
          "scattercarpet": [
           {
            "marker": {
             "colorbar": {
              "outlinewidth": 0,
              "ticks": ""
             }
            },
            "type": "scattercarpet"
           }
          ],
          "scattergeo": [
           {
            "marker": {
             "colorbar": {
              "outlinewidth": 0,
              "ticks": ""
             }
            },
            "type": "scattergeo"
           }
          ],
          "scattergl": [
           {
            "marker": {
             "colorbar": {
              "outlinewidth": 0,
              "ticks": ""
             }
            },
            "type": "scattergl"
           }
          ],
          "scattermapbox": [
           {
            "marker": {
             "colorbar": {
              "outlinewidth": 0,
              "ticks": ""
             }
            },
            "type": "scattermapbox"
           }
          ],
          "scatterpolar": [
           {
            "marker": {
             "colorbar": {
              "outlinewidth": 0,
              "ticks": ""
             }
            },
            "type": "scatterpolar"
           }
          ],
          "scatterpolargl": [
           {
            "marker": {
             "colorbar": {
              "outlinewidth": 0,
              "ticks": ""
             }
            },
            "type": "scatterpolargl"
           }
          ],
          "scatterternary": [
           {
            "marker": {
             "colorbar": {
              "outlinewidth": 0,
              "ticks": ""
             }
            },
            "type": "scatterternary"
           }
          ],
          "surface": [
           {
            "colorbar": {
             "outlinewidth": 0,
             "ticks": ""
            },
            "colorscale": [
             [
              0,
              "#0d0887"
             ],
             [
              0.1111111111111111,
              "#46039f"
             ],
             [
              0.2222222222222222,
              "#7201a8"
             ],
             [
              0.3333333333333333,
              "#9c179e"
             ],
             [
              0.4444444444444444,
              "#bd3786"
             ],
             [
              0.5555555555555556,
              "#d8576b"
             ],
             [
              0.6666666666666666,
              "#ed7953"
             ],
             [
              0.7777777777777778,
              "#fb9f3a"
             ],
             [
              0.8888888888888888,
              "#fdca26"
             ],
             [
              1,
              "#f0f921"
             ]
            ],
            "type": "surface"
           }
          ],
          "table": [
           {
            "cells": {
             "fill": {
              "color": "#EBF0F8"
             },
             "line": {
              "color": "white"
             }
            },
            "header": {
             "fill": {
              "color": "#C8D4E3"
             },
             "line": {
              "color": "white"
             }
            },
            "type": "table"
           }
          ]
         },
         "layout": {
          "annotationdefaults": {
           "arrowcolor": "#2a3f5f",
           "arrowhead": 0,
           "arrowwidth": 1
          },
          "autotypenumbers": "strict",
          "coloraxis": {
           "colorbar": {
            "outlinewidth": 0,
            "ticks": ""
           }
          },
          "colorscale": {
           "diverging": [
            [
             0,
             "#8e0152"
            ],
            [
             0.1,
             "#c51b7d"
            ],
            [
             0.2,
             "#de77ae"
            ],
            [
             0.3,
             "#f1b6da"
            ],
            [
             0.4,
             "#fde0ef"
            ],
            [
             0.5,
             "#f7f7f7"
            ],
            [
             0.6,
             "#e6f5d0"
            ],
            [
             0.7,
             "#b8e186"
            ],
            [
             0.8,
             "#7fbc41"
            ],
            [
             0.9,
             "#4d9221"
            ],
            [
             1,
             "#276419"
            ]
           ],
           "sequential": [
            [
             0,
             "#0d0887"
            ],
            [
             0.1111111111111111,
             "#46039f"
            ],
            [
             0.2222222222222222,
             "#7201a8"
            ],
            [
             0.3333333333333333,
             "#9c179e"
            ],
            [
             0.4444444444444444,
             "#bd3786"
            ],
            [
             0.5555555555555556,
             "#d8576b"
            ],
            [
             0.6666666666666666,
             "#ed7953"
            ],
            [
             0.7777777777777778,
             "#fb9f3a"
            ],
            [
             0.8888888888888888,
             "#fdca26"
            ],
            [
             1,
             "#f0f921"
            ]
           ],
           "sequentialminus": [
            [
             0,
             "#0d0887"
            ],
            [
             0.1111111111111111,
             "#46039f"
            ],
            [
             0.2222222222222222,
             "#7201a8"
            ],
            [
             0.3333333333333333,
             "#9c179e"
            ],
            [
             0.4444444444444444,
             "#bd3786"
            ],
            [
             0.5555555555555556,
             "#d8576b"
            ],
            [
             0.6666666666666666,
             "#ed7953"
            ],
            [
             0.7777777777777778,
             "#fb9f3a"
            ],
            [
             0.8888888888888888,
             "#fdca26"
            ],
            [
             1,
             "#f0f921"
            ]
           ]
          },
          "colorway": [
           "#636efa",
           "#EF553B",
           "#00cc96",
           "#ab63fa",
           "#FFA15A",
           "#19d3f3",
           "#FF6692",
           "#B6E880",
           "#FF97FF",
           "#FECB52"
          ],
          "font": {
           "color": "#2a3f5f"
          },
          "geo": {
           "bgcolor": "white",
           "lakecolor": "white",
           "landcolor": "#E5ECF6",
           "showlakes": true,
           "showland": true,
           "subunitcolor": "white"
          },
          "hoverlabel": {
           "align": "left"
          },
          "hovermode": "closest",
          "mapbox": {
           "style": "light"
          },
          "paper_bgcolor": "white",
          "plot_bgcolor": "#E5ECF6",
          "polar": {
           "angularaxis": {
            "gridcolor": "white",
            "linecolor": "white",
            "ticks": ""
           },
           "bgcolor": "#E5ECF6",
           "radialaxis": {
            "gridcolor": "white",
            "linecolor": "white",
            "ticks": ""
           }
          },
          "scene": {
           "xaxis": {
            "backgroundcolor": "#E5ECF6",
            "gridcolor": "white",
            "gridwidth": 2,
            "linecolor": "white",
            "showbackground": true,
            "ticks": "",
            "zerolinecolor": "white"
           },
           "yaxis": {
            "backgroundcolor": "#E5ECF6",
            "gridcolor": "white",
            "gridwidth": 2,
            "linecolor": "white",
            "showbackground": true,
            "ticks": "",
            "zerolinecolor": "white"
           },
           "zaxis": {
            "backgroundcolor": "#E5ECF6",
            "gridcolor": "white",
            "gridwidth": 2,
            "linecolor": "white",
            "showbackground": true,
            "ticks": "",
            "zerolinecolor": "white"
           }
          },
          "shapedefaults": {
           "line": {
            "color": "#2a3f5f"
           }
          },
          "ternary": {
           "aaxis": {
            "gridcolor": "white",
            "linecolor": "white",
            "ticks": ""
           },
           "baxis": {
            "gridcolor": "white",
            "linecolor": "white",
            "ticks": ""
           },
           "bgcolor": "#E5ECF6",
           "caxis": {
            "gridcolor": "white",
            "linecolor": "white",
            "ticks": ""
           }
          },
          "title": {
           "x": 0.05
          },
          "xaxis": {
           "automargin": true,
           "gridcolor": "white",
           "linecolor": "white",
           "ticks": "",
           "title": {
            "standoff": 15
           },
           "zerolinecolor": "white",
           "zerolinewidth": 2
          },
          "yaxis": {
           "automargin": true,
           "gridcolor": "white",
           "linecolor": "white",
           "ticks": "",
           "title": {
            "standoff": 15
           },
           "zerolinecolor": "white",
           "zerolinewidth": 2
          }
         }
        },
        "title": {
         "text": "Average Speed and Flow over Time"
        },
        "xaxis": {
         "anchor": "y",
         "domain": [
          0,
          1
         ],
         "title": {
          "text": "datetime"
         }
        },
        "yaxis": {
         "anchor": "x",
         "domain": [
          0,
          1
         ],
         "title": {
          "text": "Value"
         }
        }
       }
      }
     },
     "metadata": {},
     "output_type": "display_data"
    },
    {
     "data": {
      "text/html": [
       "<div>\n",
       "<style scoped>\n",
       "    .dataframe tbody tr th:only-of-type {\n",
       "        vertical-align: middle;\n",
       "    }\n",
       "\n",
       "    .dataframe tbody tr th {\n",
       "        vertical-align: top;\n",
       "    }\n",
       "\n",
       "    .dataframe thead th {\n",
       "        text-align: right;\n",
       "    }\n",
       "</style>\n",
       "<table border=\"1\" class=\"dataframe\">\n",
       "  <thead>\n",
       "    <tr style=\"text-align: right;\">\n",
       "      <th></th>\n",
       "      <th>DP_ID</th>\n",
       "      <th>PORTAL</th>\n",
       "      <th>Date</th>\n",
       "      <th>Time</th>\n",
       "      <th>Interval_1</th>\n",
       "      <th>Interval_5</th>\n",
       "      <th>Interval_15</th>\n",
       "      <th>Interval_30</th>\n",
       "      <th>Interval_60</th>\n",
       "      <th>SPEED_MS_AVG</th>\n",
       "      <th>FLOW</th>\n",
       "      <th>datetime</th>\n",
       "    </tr>\n",
       "  </thead>\n",
       "  <tbody>\n",
       "    <tr>\n",
       "      <th>0</th>\n",
       "      <td>1254</td>\n",
       "      <td>E4S 55,620</td>\n",
       "      <td>20220101</td>\n",
       "      <td>04:00:00</td>\n",
       "      <td>240</td>\n",
       "      <td>48</td>\n",
       "      <td>16</td>\n",
       "      <td>8</td>\n",
       "      <td>4</td>\n",
       "      <td>26.40</td>\n",
       "      <td>1.0</td>\n",
       "      <td>2022-01-01 04:00:00</td>\n",
       "    </tr>\n",
       "    <tr>\n",
       "      <th>3</th>\n",
       "      <td>1076</td>\n",
       "      <td>E4S 55,620</td>\n",
       "      <td>20220101</td>\n",
       "      <td>04:00:00</td>\n",
       "      <td>240</td>\n",
       "      <td>48</td>\n",
       "      <td>16</td>\n",
       "      <td>8</td>\n",
       "      <td>4</td>\n",
       "      <td>18.55</td>\n",
       "      <td>4.0</td>\n",
       "      <td>2022-01-01 04:00:00</td>\n",
       "    </tr>\n",
       "    <tr>\n",
       "      <th>4</th>\n",
       "      <td>751</td>\n",
       "      <td>E4S 55,620</td>\n",
       "      <td>20220101</td>\n",
       "      <td>04:00:00</td>\n",
       "      <td>240</td>\n",
       "      <td>48</td>\n",
       "      <td>16</td>\n",
       "      <td>8</td>\n",
       "      <td>4</td>\n",
       "      <td>22.19</td>\n",
       "      <td>7.0</td>\n",
       "      <td>2022-01-01 04:00:00</td>\n",
       "    </tr>\n",
       "    <tr>\n",
       "      <th>43</th>\n",
       "      <td>1076</td>\n",
       "      <td>E4S 55,620</td>\n",
       "      <td>20220101</td>\n",
       "      <td>04:01:00</td>\n",
       "      <td>241</td>\n",
       "      <td>48</td>\n",
       "      <td>16</td>\n",
       "      <td>8</td>\n",
       "      <td>4</td>\n",
       "      <td>24.35</td>\n",
       "      <td>4.0</td>\n",
       "      <td>2022-01-01 04:01:00</td>\n",
       "    </tr>\n",
       "    <tr>\n",
       "      <th>44</th>\n",
       "      <td>751</td>\n",
       "      <td>E4S 55,620</td>\n",
       "      <td>20220101</td>\n",
       "      <td>04:01:00</td>\n",
       "      <td>241</td>\n",
       "      <td>48</td>\n",
       "      <td>16</td>\n",
       "      <td>8</td>\n",
       "      <td>4</td>\n",
       "      <td>20.83</td>\n",
       "      <td>4.0</td>\n",
       "      <td>2022-01-01 04:01:00</td>\n",
       "    </tr>\n",
       "    <tr>\n",
       "      <th>...</th>\n",
       "      <td>...</td>\n",
       "      <td>...</td>\n",
       "      <td>...</td>\n",
       "      <td>...</td>\n",
       "      <td>...</td>\n",
       "      <td>...</td>\n",
       "      <td>...</td>\n",
       "      <td>...</td>\n",
       "      <td>...</td>\n",
       "      <td>...</td>\n",
       "      <td>...</td>\n",
       "      <td>...</td>\n",
       "    </tr>\n",
       "    <tr>\n",
       "      <th>964</th>\n",
       "      <td>1076</td>\n",
       "      <td>E4S 55,620</td>\n",
       "      <td>20220101</td>\n",
       "      <td>04:43:00</td>\n",
       "      <td>283</td>\n",
       "      <td>56</td>\n",
       "      <td>18</td>\n",
       "      <td>9</td>\n",
       "      <td>4</td>\n",
       "      <td>21.63</td>\n",
       "      <td>3.0</td>\n",
       "      <td>2022-01-01 04:43:00</td>\n",
       "    </tr>\n",
       "    <tr>\n",
       "      <th>965</th>\n",
       "      <td>751</td>\n",
       "      <td>E4S 55,620</td>\n",
       "      <td>20220101</td>\n",
       "      <td>04:43:00</td>\n",
       "      <td>283</td>\n",
       "      <td>56</td>\n",
       "      <td>18</td>\n",
       "      <td>9</td>\n",
       "      <td>4</td>\n",
       "      <td>22.40</td>\n",
       "      <td>3.0</td>\n",
       "      <td>2022-01-01 04:43:00</td>\n",
       "    </tr>\n",
       "    <tr>\n",
       "      <th>969</th>\n",
       "      <td>1254</td>\n",
       "      <td>E4S 55,620</td>\n",
       "      <td>20220101</td>\n",
       "      <td>04:43:00</td>\n",
       "      <td>283</td>\n",
       "      <td>56</td>\n",
       "      <td>18</td>\n",
       "      <td>9</td>\n",
       "      <td>4</td>\n",
       "      <td>23.60</td>\n",
       "      <td>1.0</td>\n",
       "      <td>2022-01-01 04:43:00</td>\n",
       "    </tr>\n",
       "    <tr>\n",
       "      <th>972</th>\n",
       "      <td>1076</td>\n",
       "      <td>E4S 55,620</td>\n",
       "      <td>20220101</td>\n",
       "      <td>04:44:00</td>\n",
       "      <td>284</td>\n",
       "      <td>56</td>\n",
       "      <td>18</td>\n",
       "      <td>9</td>\n",
       "      <td>4</td>\n",
       "      <td>22.30</td>\n",
       "      <td>3.0</td>\n",
       "      <td>2022-01-01 04:44:00</td>\n",
       "    </tr>\n",
       "    <tr>\n",
       "      <th>973</th>\n",
       "      <td>751</td>\n",
       "      <td>E4S 55,620</td>\n",
       "      <td>20220101</td>\n",
       "      <td>04:44:00</td>\n",
       "      <td>284</td>\n",
       "      <td>56</td>\n",
       "      <td>18</td>\n",
       "      <td>9</td>\n",
       "      <td>4</td>\n",
       "      <td>23.67</td>\n",
       "      <td>7.0</td>\n",
       "      <td>2022-01-01 04:44:00</td>\n",
       "    </tr>\n",
       "  </tbody>\n",
       "</table>\n",
       "<p>109 rows × 12 columns</p>\n",
       "</div>"
      ],
      "text/plain": [
       "     DP_ID      PORTAL      Date      Time  Interval_1  Interval_5  \\\n",
       "0     1254  E4S 55,620  20220101  04:00:00         240          48   \n",
       "3     1076  E4S 55,620  20220101  04:00:00         240          48   \n",
       "4      751  E4S 55,620  20220101  04:00:00         240          48   \n",
       "43    1076  E4S 55,620  20220101  04:01:00         241          48   \n",
       "44     751  E4S 55,620  20220101  04:01:00         241          48   \n",
       "..     ...         ...       ...       ...         ...         ...   \n",
       "964   1076  E4S 55,620  20220101  04:43:00         283          56   \n",
       "965    751  E4S 55,620  20220101  04:43:00         283          56   \n",
       "969   1254  E4S 55,620  20220101  04:43:00         283          56   \n",
       "972   1076  E4S 55,620  20220101  04:44:00         284          56   \n",
       "973    751  E4S 55,620  20220101  04:44:00         284          56   \n",
       "\n",
       "     Interval_15  Interval_30  Interval_60  SPEED_MS_AVG  FLOW  \\\n",
       "0             16            8            4         26.40   1.0   \n",
       "3             16            8            4         18.55   4.0   \n",
       "4             16            8            4         22.19   7.0   \n",
       "43            16            8            4         24.35   4.0   \n",
       "44            16            8            4         20.83   4.0   \n",
       "..           ...          ...          ...           ...   ...   \n",
       "964           18            9            4         21.63   3.0   \n",
       "965           18            9            4         22.40   3.0   \n",
       "969           18            9            4         23.60   1.0   \n",
       "972           18            9            4         22.30   3.0   \n",
       "973           18            9            4         23.67   7.0   \n",
       "\n",
       "               datetime  \n",
       "0   2022-01-01 04:00:00  \n",
       "3   2022-01-01 04:00:00  \n",
       "4   2022-01-01 04:00:00  \n",
       "43  2022-01-01 04:01:00  \n",
       "44  2022-01-01 04:01:00  \n",
       "..                  ...  \n",
       "964 2022-01-01 04:43:00  \n",
       "965 2022-01-01 04:43:00  \n",
       "969 2022-01-01 04:43:00  \n",
       "972 2022-01-01 04:44:00  \n",
       "973 2022-01-01 04:44:00  \n",
       "\n",
       "[109 rows x 12 columns]"
      ]
     },
     "execution_count": 4,
     "metadata": {},
     "output_type": "execute_result"
    }
   ],
   "source": [
    "evaluation_df[\"datetime\"] = pd.to_datetime(evaluation_df[\"Date\"].astype(str) + \" \" + evaluation_df[\"Time\"])\n",
    "plot_evaluation_df = evaluation_df[:1000][evaluation_df[\"PORTAL\"] == \"E4S 55,620\"]\n",
    "\n",
    "dp_count = plot_evaluation_df[\"DP_ID\"].nunique()\n",
    "print(\"Number of unique dp_ids per portal:\", dp_count)\n",
    "\n",
    "\n",
    "# Create interactive line plot\n",
    "fig = px.scatter(\n",
    "    plot_evaluation_df,\n",
    "    x=\"datetime\",\n",
    "    y=[\"FLOW\"],\n",
    "    labels={\"value\": \"Value\", \"variable\": \"Metric\"},\n",
    "    title=\"Average Speed and Flow over Time\"\n",
    ")\n",
    "\n",
    "fig.show()\n",
    "\n",
    "plot_evaluation_df"
   ]
  },
  {
   "cell_type": "markdown",
   "metadata": {},
   "source": [
    "## Preprocessing"
   ]
  },
  {
   "cell_type": "markdown",
   "metadata": {},
   "source": [
    "### Data Cleaning"
   ]
  },
  {
   "cell_type": "code",
   "execution_count": 5,
   "metadata": {},
   "outputs": [
    {
     "name": "stdout",
     "output_type": "stream",
     "text": [
      "NaN counts per column:\n",
      "DP_ID            0\n",
      "PORTAL           0\n",
      "Date             0\n",
      "Time             0\n",
      "Interval_1       0\n",
      "Interval_5       0\n",
      "Interval_15      0\n",
      "Interval_30      0\n",
      "Interval_60      0\n",
      "SPEED_MS_AVG     0\n",
      "FLOW            29\n",
      "datetime         0\n",
      "dtype: int64\n",
      "\n",
      "Number of duplicate rows (same DP_ID, PORTAL, Date, Time): 0\n",
      "\n",
      "SPEED_MS_AVG: min = 0.0 , max = 43.1\n",
      "FLOW: min = 1.0 , max = 44.0\n"
     ]
    }
   ],
   "source": [
    "# 1. Check amount of NaNs in each column\n",
    "print(\"NaN counts per column:\")\n",
    "print(evaluation_df.isna().sum())\n",
    "\n",
    "# 2. Check for duplicate entries (same DP_ID, PORTAL, Date, Time)\n",
    "dup_mask = evaluation_df.duplicated(subset=[\"DP_ID\", \"PORTAL\", \"Date\", \"Time\"], keep=False)\n",
    "num_duplicates = dup_mask.sum()\n",
    "print(\"\\nNumber of duplicate rows (same DP_ID, PORTAL, Date, Time):\", num_duplicates)\n",
    "\n",
    "# 3. Min/Max values of SPEED_MS_AVG and FLOW\n",
    "print(\"\\nSPEED_MS_AVG: min =\", evaluation_df[\"SPEED_MS_AVG\"].min(), \n",
    "      \", max =\", evaluation_df[\"SPEED_MS_AVG\"].max())\n",
    "\n",
    "print(\"FLOW: min =\", evaluation_df[\"FLOW\"].min(), \n",
    "      \", max =\", evaluation_df[\"FLOW\"].max())\n"
   ]
  },
  {
   "cell_type": "code",
   "execution_count": 6,
   "metadata": {},
   "outputs": [],
   "source": [
    "# drop NaNs in target variable\n",
    "clean_evaluation_df = evaluation_df.dropna(subset=[\"FLOW\"])\n"
   ]
  },
  {
   "cell_type": "code",
   "execution_count": 7,
   "metadata": {},
   "outputs": [],
   "source": [
    "# Ensure a proper timestamp (optional but helpful for sorting)\n",
    "clean_evaluation_df = clean_evaluation_df.copy()\n",
    "clean_evaluation_df[\"timestamp\"] = pd.to_datetime(\n",
    "    clean_evaluation_df[\"Date\"].astype(str) + \" \" + clean_evaluation_df[\"Time\"].astype(str),\n",
    "    format=\"%Y%m%d %H:%M:%S\"\n",
    ")\n",
    "\n",
    "# Sort within groups so rolling uses the correct temporal order\n",
    "clean_evaluation_df = clean_evaluation_df.sort_values([\"PORTAL\", \"DP_ID\", \"timestamp\"])\n",
    "\n"
   ]
  },
  {
   "cell_type": "code",
   "execution_count": 8,
   "metadata": {},
   "outputs": [
    {
     "data": {
      "text/html": [
       "<div>\n",
       "<style scoped>\n",
       "    .dataframe tbody tr th:only-of-type {\n",
       "        vertical-align: middle;\n",
       "    }\n",
       "\n",
       "    .dataframe tbody tr th {\n",
       "        vertical-align: top;\n",
       "    }\n",
       "\n",
       "    .dataframe thead th {\n",
       "        text-align: right;\n",
       "    }\n",
       "</style>\n",
       "<table border=\"1\" class=\"dataframe\">\n",
       "  <thead>\n",
       "    <tr style=\"text-align: right;\">\n",
       "      <th></th>\n",
       "      <th>DP_ID</th>\n",
       "      <th>PORTAL</th>\n",
       "      <th>Date</th>\n",
       "      <th>Time</th>\n",
       "      <th>Interval_1</th>\n",
       "      <th>Interval_5</th>\n",
       "      <th>Interval_15</th>\n",
       "      <th>Interval_30</th>\n",
       "      <th>Interval_60</th>\n",
       "      <th>SPEED_MS_AVG</th>\n",
       "      <th>FLOW</th>\n",
       "      <th>datetime</th>\n",
       "      <th>timestamp</th>\n",
       "    </tr>\n",
       "  </thead>\n",
       "  <tbody>\n",
       "    <tr>\n",
       "      <th>4</th>\n",
       "      <td>751</td>\n",
       "      <td>E4S 55,620</td>\n",
       "      <td>20220101</td>\n",
       "      <td>04:00:00</td>\n",
       "      <td>240</td>\n",
       "      <td>48</td>\n",
       "      <td>16</td>\n",
       "      <td>8</td>\n",
       "      <td>4</td>\n",
       "      <td>22.19</td>\n",
       "      <td>7.0</td>\n",
       "      <td>2022-01-01 04:00:00</td>\n",
       "      <td>2022-01-01 04:00:00</td>\n",
       "    </tr>\n",
       "    <tr>\n",
       "      <th>44</th>\n",
       "      <td>751</td>\n",
       "      <td>E4S 55,620</td>\n",
       "      <td>20220101</td>\n",
       "      <td>04:01:00</td>\n",
       "      <td>241</td>\n",
       "      <td>48</td>\n",
       "      <td>16</td>\n",
       "      <td>8</td>\n",
       "      <td>4</td>\n",
       "      <td>20.83</td>\n",
       "      <td>4.0</td>\n",
       "      <td>2022-01-01 04:01:00</td>\n",
       "      <td>2022-01-01 04:01:00</td>\n",
       "    </tr>\n",
       "    <tr>\n",
       "      <th>52</th>\n",
       "      <td>751</td>\n",
       "      <td>E4S 55,620</td>\n",
       "      <td>20220101</td>\n",
       "      <td>04:02:00</td>\n",
       "      <td>242</td>\n",
       "      <td>48</td>\n",
       "      <td>16</td>\n",
       "      <td>8</td>\n",
       "      <td>4</td>\n",
       "      <td>22.98</td>\n",
       "      <td>4.0</td>\n",
       "      <td>2022-01-01 04:02:00</td>\n",
       "      <td>2022-01-01 04:02:00</td>\n",
       "    </tr>\n",
       "    <tr>\n",
       "      <th>85</th>\n",
       "      <td>751</td>\n",
       "      <td>E4S 55,620</td>\n",
       "      <td>20220101</td>\n",
       "      <td>04:03:00</td>\n",
       "      <td>243</td>\n",
       "      <td>48</td>\n",
       "      <td>16</td>\n",
       "      <td>8</td>\n",
       "      <td>4</td>\n",
       "      <td>22.30</td>\n",
       "      <td>3.0</td>\n",
       "      <td>2022-01-01 04:03:00</td>\n",
       "      <td>2022-01-01 04:03:00</td>\n",
       "    </tr>\n",
       "    <tr>\n",
       "      <th>94</th>\n",
       "      <td>751</td>\n",
       "      <td>E4S 55,620</td>\n",
       "      <td>20220101</td>\n",
       "      <td>04:04:00</td>\n",
       "      <td>244</td>\n",
       "      <td>48</td>\n",
       "      <td>16</td>\n",
       "      <td>8</td>\n",
       "      <td>4</td>\n",
       "      <td>24.30</td>\n",
       "      <td>4.0</td>\n",
       "      <td>2022-01-01 04:04:00</td>\n",
       "      <td>2022-01-01 04:04:00</td>\n",
       "    </tr>\n",
       "    <tr>\n",
       "      <th>...</th>\n",
       "      <td>...</td>\n",
       "      <td>...</td>\n",
       "      <td>...</td>\n",
       "      <td>...</td>\n",
       "      <td>...</td>\n",
       "      <td>...</td>\n",
       "      <td>...</td>\n",
       "      <td>...</td>\n",
       "      <td>...</td>\n",
       "      <td>...</td>\n",
       "      <td>...</td>\n",
       "      <td>...</td>\n",
       "      <td>...</td>\n",
       "    </tr>\n",
       "    <tr>\n",
       "      <th>803126</th>\n",
       "      <td>4496</td>\n",
       "      <td>E4S 58,140</td>\n",
       "      <td>20220625</td>\n",
       "      <td>09:50:00</td>\n",
       "      <td>590</td>\n",
       "      <td>118</td>\n",
       "      <td>39</td>\n",
       "      <td>19</td>\n",
       "      <td>9</td>\n",
       "      <td>15.56</td>\n",
       "      <td>1.0</td>\n",
       "      <td>2022-06-25 09:50:00</td>\n",
       "      <td>2022-06-25 09:50:00</td>\n",
       "    </tr>\n",
       "    <tr>\n",
       "      <th>803172</th>\n",
       "      <td>4496</td>\n",
       "      <td>E4S 58,140</td>\n",
       "      <td>20220625</td>\n",
       "      <td>09:52:00</td>\n",
       "      <td>592</td>\n",
       "      <td>118</td>\n",
       "      <td>39</td>\n",
       "      <td>19</td>\n",
       "      <td>9</td>\n",
       "      <td>20.28</td>\n",
       "      <td>1.0</td>\n",
       "      <td>2022-06-25 09:52:00</td>\n",
       "      <td>2022-06-25 09:52:00</td>\n",
       "    </tr>\n",
       "    <tr>\n",
       "      <th>803267</th>\n",
       "      <td>4496</td>\n",
       "      <td>E4S 58,140</td>\n",
       "      <td>20220625</td>\n",
       "      <td>09:56:00</td>\n",
       "      <td>596</td>\n",
       "      <td>119</td>\n",
       "      <td>39</td>\n",
       "      <td>19</td>\n",
       "      <td>9</td>\n",
       "      <td>18.89</td>\n",
       "      <td>2.0</td>\n",
       "      <td>2022-06-25 09:56:00</td>\n",
       "      <td>2022-06-25 09:56:00</td>\n",
       "    </tr>\n",
       "    <tr>\n",
       "      <th>803307</th>\n",
       "      <td>4496</td>\n",
       "      <td>E4S 58,140</td>\n",
       "      <td>20220625</td>\n",
       "      <td>09:57:00</td>\n",
       "      <td>597</td>\n",
       "      <td>119</td>\n",
       "      <td>39</td>\n",
       "      <td>19</td>\n",
       "      <td>9</td>\n",
       "      <td>18.61</td>\n",
       "      <td>2.0</td>\n",
       "      <td>2022-06-25 09:57:00</td>\n",
       "      <td>2022-06-25 09:57:00</td>\n",
       "    </tr>\n",
       "    <tr>\n",
       "      <th>803361</th>\n",
       "      <td>4496</td>\n",
       "      <td>E4S 58,140</td>\n",
       "      <td>20220625</td>\n",
       "      <td>10:00:00</td>\n",
       "      <td>600</td>\n",
       "      <td>120</td>\n",
       "      <td>40</td>\n",
       "      <td>20</td>\n",
       "      <td>10</td>\n",
       "      <td>14.72</td>\n",
       "      <td>1.0</td>\n",
       "      <td>2022-06-25 10:00:00</td>\n",
       "      <td>2022-06-25 10:00:00</td>\n",
       "    </tr>\n",
       "  </tbody>\n",
       "</table>\n",
       "<p>803348 rows × 13 columns</p>\n",
       "</div>"
      ],
      "text/plain": [
       "        DP_ID      PORTAL      Date      Time  Interval_1  Interval_5  \\\n",
       "4         751  E4S 55,620  20220101  04:00:00         240          48   \n",
       "44        751  E4S 55,620  20220101  04:01:00         241          48   \n",
       "52        751  E4S 55,620  20220101  04:02:00         242          48   \n",
       "85        751  E4S 55,620  20220101  04:03:00         243          48   \n",
       "94        751  E4S 55,620  20220101  04:04:00         244          48   \n",
       "...       ...         ...       ...       ...         ...         ...   \n",
       "803126   4496  E4S 58,140  20220625  09:50:00         590         118   \n",
       "803172   4496  E4S 58,140  20220625  09:52:00         592         118   \n",
       "803267   4496  E4S 58,140  20220625  09:56:00         596         119   \n",
       "803307   4496  E4S 58,140  20220625  09:57:00         597         119   \n",
       "803361   4496  E4S 58,140  20220625  10:00:00         600         120   \n",
       "\n",
       "        Interval_15  Interval_30  Interval_60  SPEED_MS_AVG  FLOW  \\\n",
       "4                16            8            4         22.19   7.0   \n",
       "44               16            8            4         20.83   4.0   \n",
       "52               16            8            4         22.98   4.0   \n",
       "85               16            8            4         22.30   3.0   \n",
       "94               16            8            4         24.30   4.0   \n",
       "...             ...          ...          ...           ...   ...   \n",
       "803126           39           19            9         15.56   1.0   \n",
       "803172           39           19            9         20.28   1.0   \n",
       "803267           39           19            9         18.89   2.0   \n",
       "803307           39           19            9         18.61   2.0   \n",
       "803361           40           20           10         14.72   1.0   \n",
       "\n",
       "                  datetime           timestamp  \n",
       "4      2022-01-01 04:00:00 2022-01-01 04:00:00  \n",
       "44     2022-01-01 04:01:00 2022-01-01 04:01:00  \n",
       "52     2022-01-01 04:02:00 2022-01-01 04:02:00  \n",
       "85     2022-01-01 04:03:00 2022-01-01 04:03:00  \n",
       "94     2022-01-01 04:04:00 2022-01-01 04:04:00  \n",
       "...                    ...                 ...  \n",
       "803126 2022-06-25 09:50:00 2022-06-25 09:50:00  \n",
       "803172 2022-06-25 09:52:00 2022-06-25 09:52:00  \n",
       "803267 2022-06-25 09:56:00 2022-06-25 09:56:00  \n",
       "803307 2022-06-25 09:57:00 2022-06-25 09:57:00  \n",
       "803361 2022-06-25 10:00:00 2022-06-25 10:00:00  \n",
       "\n",
       "[803348 rows x 13 columns]"
      ]
     },
     "execution_count": 8,
     "metadata": {},
     "output_type": "execute_result"
    }
   ],
   "source": [
    "clean_evaluation_df"
   ]
  },
  {
   "cell_type": "markdown",
   "metadata": {},
   "source": [
    "### Basic Transformations"
   ]
  },
  {
   "cell_type": "code",
   "execution_count": 9,
   "metadata": {},
   "outputs": [
    {
     "name": "stdout",
     "output_type": "stream",
     "text": [
      "[Check] Groups with conflicting non-aggregated fields: 0\n",
      "[Done] Aggregated over DP_ID within each (PORTAL, Date, Time).\n",
      "Result shape: (250270, 12)\n",
      "Columns: ['PORTAL', 'Date', 'Time', 'Interval_1', 'Interval_5', 'Interval_15', 'Interval_30', 'Interval_60', 'datetime', 'timestamp', 'FLOW', 'SPEED_MS_AVG']\n"
     ]
    },
    {
     "name": "stderr",
     "output_type": "stream",
     "text": [
      "/var/folders/ww/hnj0z7l577b2_jzdg6515pfm0000gn/T/ipykernel_9646/2681327749.py:53: DeprecationWarning:\n",
      "\n",
      "DataFrameGroupBy.apply operated on the grouping columns. This behavior is deprecated, and in a future version of pandas the grouping columns will be excluded from the operation. Either pass `include_groups=False` to exclude the groupings or explicitly select the grouping columns after groupby to silence this warning.\n",
      "\n"
     ]
    }
   ],
   "source": [
    "import numpy as np\n",
    "import pandas as pd\n",
    "\n",
    "# --- config ---\n",
    "STRICT = False   # set True to raise an error instead of proceeding when conflicts exist\n",
    "\n",
    "#df = evaluation_df.copy()\n",
    "\n",
    "# Keys for aggregation (per your spec)\n",
    "group_keys = [\"PORTAL\", \"Date\", \"Time\"]\n",
    "\n",
    "# Columns that will be aggregated\n",
    "value_cols = [\"FLOW\", \"SPEED_MS_AVG\"]\n",
    "\n",
    "# Columns that must be identical within each (PORTAL, Date, Time) group\n",
    "const_cols = [c for c in clean_evaluation_df.columns if c not in set(group_keys + value_cols + [\"DP_ID\"])]\n",
    "\n",
    "# 1) Check for conflicts: any const col with >1 unique value within a group\n",
    "nunique_per_group = (\n",
    "    clean_evaluation_df.groupby(group_keys)[const_cols].nunique(dropna=False)\n",
    "    if const_cols else pd.DataFrame(index=clean_evaluation_df.groupby(group_keys).size().index)\n",
    ")\n",
    "\n",
    "conflict_mask = (nunique_per_group > 1).any(axis=1) if not nunique_per_group.empty else pd.Series(False, index=df.groupby(group_keys).size().index)\n",
    "num_conflicting_groups = int(conflict_mask.sum())\n",
    "\n",
    "print(f\"[Check] Groups with conflicting non-aggregated fields: {num_conflicting_groups}\")\n",
    "\n",
    "# 2) Aggregation helpers\n",
    "def weighted_mean_speed(g: pd.DataFrame) -> float:\n",
    "    w = g[\"FLOW\"].values\n",
    "    x = g[\"SPEED_MS_AVG\"].values\n",
    "    wsum = np.nansum(w)\n",
    "    if wsum > 0:\n",
    "        return float(np.nansum(x * w) / wsum)\n",
    "    # fallback if all flows are zero/NaN\n",
    "    return float(np.nanmean(x))\n",
    "\n",
    "# 3) Build the aggregated rows\n",
    "def aggregate_group(g: pd.DataFrame) -> pd.Series:\n",
    "    out = {}\n",
    "    # keep group keys as columns (groupby will provide them in the index)\n",
    "    # constants: take the first (they should be identical; we already warned if not)\n",
    "    for c in const_cols:\n",
    "        out[c] = g[c].iloc[0]\n",
    "    # aggregations\n",
    "    out[\"FLOW\"] = g[\"FLOW\"].sum(skipna=True)\n",
    "    out[\"SPEED_MS_AVG\"] = weighted_mean_speed(g)\n",
    "    return pd.Series(out)\n",
    "\n",
    "agg_df = (\n",
    "    clean_evaluation_df.groupby(group_keys, as_index=False)\n",
    "      .apply(aggregate_group)\n",
    "      .reset_index(drop=True)\n",
    ")\n",
    "\n",
    "# DP_ID is removed by construction (we aggregate over it)\n",
    "print(\"[Done] Aggregated over DP_ID within each (PORTAL, Date, Time).\")\n",
    "print(\"Result shape:\", agg_df.shape)\n",
    "print(\"Columns:\", list(agg_df.columns))\n"
   ]
  },
  {
   "cell_type": "code",
   "execution_count": 10,
   "metadata": {},
   "outputs": [
    {
     "data": {
      "text/html": [
       "<div>\n",
       "<style scoped>\n",
       "    .dataframe tbody tr th:only-of-type {\n",
       "        vertical-align: middle;\n",
       "    }\n",
       "\n",
       "    .dataframe tbody tr th {\n",
       "        vertical-align: top;\n",
       "    }\n",
       "\n",
       "    .dataframe thead th {\n",
       "        text-align: right;\n",
       "    }\n",
       "</style>\n",
       "<table border=\"1\" class=\"dataframe\">\n",
       "  <thead>\n",
       "    <tr style=\"text-align: right;\">\n",
       "      <th></th>\n",
       "      <th>PORTAL</th>\n",
       "      <th>Date</th>\n",
       "      <th>Time</th>\n",
       "      <th>Interval_1</th>\n",
       "      <th>Interval_5</th>\n",
       "      <th>Interval_15</th>\n",
       "      <th>Interval_30</th>\n",
       "      <th>Interval_60</th>\n",
       "      <th>datetime</th>\n",
       "      <th>timestamp</th>\n",
       "      <th>FLOW</th>\n",
       "      <th>SPEED_MS_AVG</th>\n",
       "    </tr>\n",
       "  </thead>\n",
       "  <tbody>\n",
       "    <tr>\n",
       "      <th>0</th>\n",
       "      <td>E4S 55,620</td>\n",
       "      <td>20220101</td>\n",
       "      <td>04:00:00</td>\n",
       "      <td>240</td>\n",
       "      <td>48</td>\n",
       "      <td>16</td>\n",
       "      <td>8</td>\n",
       "      <td>4</td>\n",
       "      <td>2022-01-01 04:00:00</td>\n",
       "      <td>2022-01-01 04:00:00</td>\n",
       "      <td>12.0</td>\n",
       "      <td>21.327500</td>\n",
       "    </tr>\n",
       "    <tr>\n",
       "      <th>1</th>\n",
       "      <td>E4S 55,620</td>\n",
       "      <td>20220101</td>\n",
       "      <td>04:01:00</td>\n",
       "      <td>241</td>\n",
       "      <td>48</td>\n",
       "      <td>16</td>\n",
       "      <td>8</td>\n",
       "      <td>4</td>\n",
       "      <td>2022-01-01 04:01:00</td>\n",
       "      <td>2022-01-01 04:01:00</td>\n",
       "      <td>9.0</td>\n",
       "      <td>22.580000</td>\n",
       "    </tr>\n",
       "    <tr>\n",
       "      <th>2</th>\n",
       "      <td>E4S 55,620</td>\n",
       "      <td>20220101</td>\n",
       "      <td>04:02:00</td>\n",
       "      <td>242</td>\n",
       "      <td>48</td>\n",
       "      <td>16</td>\n",
       "      <td>8</td>\n",
       "      <td>4</td>\n",
       "      <td>2022-01-01 04:02:00</td>\n",
       "      <td>2022-01-01 04:02:00</td>\n",
       "      <td>7.0</td>\n",
       "      <td>22.375714</td>\n",
       "    </tr>\n",
       "    <tr>\n",
       "      <th>3</th>\n",
       "      <td>E4S 55,620</td>\n",
       "      <td>20220101</td>\n",
       "      <td>04:03:00</td>\n",
       "      <td>243</td>\n",
       "      <td>48</td>\n",
       "      <td>16</td>\n",
       "      <td>8</td>\n",
       "      <td>4</td>\n",
       "      <td>2022-01-01 04:03:00</td>\n",
       "      <td>2022-01-01 04:03:00</td>\n",
       "      <td>3.0</td>\n",
       "      <td>22.300000</td>\n",
       "    </tr>\n",
       "    <tr>\n",
       "      <th>4</th>\n",
       "      <td>E4S 55,620</td>\n",
       "      <td>20220101</td>\n",
       "      <td>04:04:00</td>\n",
       "      <td>244</td>\n",
       "      <td>48</td>\n",
       "      <td>16</td>\n",
       "      <td>8</td>\n",
       "      <td>4</td>\n",
       "      <td>2022-01-01 04:04:00</td>\n",
       "      <td>2022-01-01 04:04:00</td>\n",
       "      <td>7.0</td>\n",
       "      <td>23.370000</td>\n",
       "    </tr>\n",
       "    <tr>\n",
       "      <th>...</th>\n",
       "      <td>...</td>\n",
       "      <td>...</td>\n",
       "      <td>...</td>\n",
       "      <td>...</td>\n",
       "      <td>...</td>\n",
       "      <td>...</td>\n",
       "      <td>...</td>\n",
       "      <td>...</td>\n",
       "      <td>...</td>\n",
       "      <td>...</td>\n",
       "      <td>...</td>\n",
       "      <td>...</td>\n",
       "    </tr>\n",
       "    <tr>\n",
       "      <th>250265</th>\n",
       "      <td>E4S 58,140</td>\n",
       "      <td>20220625</td>\n",
       "      <td>09:56:00</td>\n",
       "      <td>596</td>\n",
       "      <td>119</td>\n",
       "      <td>39</td>\n",
       "      <td>19</td>\n",
       "      <td>9</td>\n",
       "      <td>2022-06-25 09:56:00</td>\n",
       "      <td>2022-06-25 09:56:00</td>\n",
       "      <td>22.0</td>\n",
       "      <td>22.123636</td>\n",
       "    </tr>\n",
       "    <tr>\n",
       "      <th>250266</th>\n",
       "      <td>E4S 58,140</td>\n",
       "      <td>20220625</td>\n",
       "      <td>09:57:00</td>\n",
       "      <td>597</td>\n",
       "      <td>119</td>\n",
       "      <td>39</td>\n",
       "      <td>19</td>\n",
       "      <td>9</td>\n",
       "      <td>2022-06-25 09:57:00</td>\n",
       "      <td>2022-06-25 09:57:00</td>\n",
       "      <td>13.0</td>\n",
       "      <td>21.793077</td>\n",
       "    </tr>\n",
       "    <tr>\n",
       "      <th>250267</th>\n",
       "      <td>E4S 58,140</td>\n",
       "      <td>20220625</td>\n",
       "      <td>09:58:00</td>\n",
       "      <td>598</td>\n",
       "      <td>119</td>\n",
       "      <td>39</td>\n",
       "      <td>19</td>\n",
       "      <td>9</td>\n",
       "      <td>2022-06-25 09:58:00</td>\n",
       "      <td>2022-06-25 09:58:00</td>\n",
       "      <td>27.0</td>\n",
       "      <td>22.252963</td>\n",
       "    </tr>\n",
       "    <tr>\n",
       "      <th>250268</th>\n",
       "      <td>E4S 58,140</td>\n",
       "      <td>20220625</td>\n",
       "      <td>09:59:00</td>\n",
       "      <td>599</td>\n",
       "      <td>119</td>\n",
       "      <td>39</td>\n",
       "      <td>19</td>\n",
       "      <td>9</td>\n",
       "      <td>2022-06-25 09:59:00</td>\n",
       "      <td>2022-06-25 09:59:00</td>\n",
       "      <td>18.0</td>\n",
       "      <td>22.191111</td>\n",
       "    </tr>\n",
       "    <tr>\n",
       "      <th>250269</th>\n",
       "      <td>E4S 58,140</td>\n",
       "      <td>20220625</td>\n",
       "      <td>10:00:00</td>\n",
       "      <td>600</td>\n",
       "      <td>120</td>\n",
       "      <td>40</td>\n",
       "      <td>20</td>\n",
       "      <td>10</td>\n",
       "      <td>2022-06-25 10:00:00</td>\n",
       "      <td>2022-06-25 10:00:00</td>\n",
       "      <td>29.0</td>\n",
       "      <td>21.706207</td>\n",
       "    </tr>\n",
       "  </tbody>\n",
       "</table>\n",
       "<p>250270 rows × 12 columns</p>\n",
       "</div>"
      ],
      "text/plain": [
       "            PORTAL      Date      Time  Interval_1  Interval_5  Interval_15  \\\n",
       "0       E4S 55,620  20220101  04:00:00         240          48           16   \n",
       "1       E4S 55,620  20220101  04:01:00         241          48           16   \n",
       "2       E4S 55,620  20220101  04:02:00         242          48           16   \n",
       "3       E4S 55,620  20220101  04:03:00         243          48           16   \n",
       "4       E4S 55,620  20220101  04:04:00         244          48           16   \n",
       "...            ...       ...       ...         ...         ...          ...   \n",
       "250265  E4S 58,140  20220625  09:56:00         596         119           39   \n",
       "250266  E4S 58,140  20220625  09:57:00         597         119           39   \n",
       "250267  E4S 58,140  20220625  09:58:00         598         119           39   \n",
       "250268  E4S 58,140  20220625  09:59:00         599         119           39   \n",
       "250269  E4S 58,140  20220625  10:00:00         600         120           40   \n",
       "\n",
       "        Interval_30  Interval_60            datetime           timestamp  \\\n",
       "0                 8            4 2022-01-01 04:00:00 2022-01-01 04:00:00   \n",
       "1                 8            4 2022-01-01 04:01:00 2022-01-01 04:01:00   \n",
       "2                 8            4 2022-01-01 04:02:00 2022-01-01 04:02:00   \n",
       "3                 8            4 2022-01-01 04:03:00 2022-01-01 04:03:00   \n",
       "4                 8            4 2022-01-01 04:04:00 2022-01-01 04:04:00   \n",
       "...             ...          ...                 ...                 ...   \n",
       "250265           19            9 2022-06-25 09:56:00 2022-06-25 09:56:00   \n",
       "250266           19            9 2022-06-25 09:57:00 2022-06-25 09:57:00   \n",
       "250267           19            9 2022-06-25 09:58:00 2022-06-25 09:58:00   \n",
       "250268           19            9 2022-06-25 09:59:00 2022-06-25 09:59:00   \n",
       "250269           20           10 2022-06-25 10:00:00 2022-06-25 10:00:00   \n",
       "\n",
       "        FLOW  SPEED_MS_AVG  \n",
       "0       12.0     21.327500  \n",
       "1        9.0     22.580000  \n",
       "2        7.0     22.375714  \n",
       "3        3.0     22.300000  \n",
       "4        7.0     23.370000  \n",
       "...      ...           ...  \n",
       "250265  22.0     22.123636  \n",
       "250266  13.0     21.793077  \n",
       "250267  27.0     22.252963  \n",
       "250268  18.0     22.191111  \n",
       "250269  29.0     21.706207  \n",
       "\n",
       "[250270 rows x 12 columns]"
      ]
     },
     "execution_count": 10,
     "metadata": {},
     "output_type": "execute_result"
    }
   ],
   "source": [
    "agg_df"
   ]
  },
  {
   "cell_type": "code",
   "execution_count": 11,
   "metadata": {},
   "outputs": [
    {
     "name": "stdout",
     "output_type": "stream",
     "text": [
      "Unique portals in agg_df:\n",
      "['E4S 55,620' 'E4S 56,160' 'E4S 56,490' 'E4S 56,780' 'E4S 57,055'\n",
      " 'E4S 57,435' 'E4S 57,820' 'E4S 58,140']\n"
     ]
    }
   ],
   "source": [
    "print(\"Unique portals in agg_df:\")\n",
    "print(agg_df[\"PORTAL\"].unique())"
   ]
  },
  {
   "cell_type": "code",
   "execution_count": 12,
   "metadata": {},
   "outputs": [
    {
     "name": "stdout",
     "output_type": "stream",
     "text": [
      "PORTAL\n",
      "E4S 55,620    1\n",
      "E4S 56,160    1\n",
      "E4S 56,490    1\n",
      "E4S 56,780    1\n",
      "E4S 57,055    1\n",
      "E4S 57,435    1\n",
      "E4S 57,820    1\n",
      "E4S 58,140    1\n",
      "Name: PORTAL_NUM, dtype: int64\n",
      "            PORTAL  PORTAL_NUM\n",
      "0       E4S 55,620       55620\n",
      "31527   E4S 56,160       56160\n",
      "63053   E4S 56,490       56490\n",
      "95385   E4S 56,780       56780\n",
      "127695  E4S 57,055       57055\n",
      "159242  E4S 57,435       57435\n",
      "191165  E4S 57,820       57820\n",
      "218036  E4S 58,140       58140\n"
     ]
    }
   ],
   "source": [
    "import re\n",
    "\n",
    "# 1) Extract numeric part (e.g. \"E4S 56,780\" -> 56780)\n",
    "# Robust extraction: capture the trailing number block (like \"55,620\" or \"56160\")\n",
    "num_str = agg_df[\"PORTAL\"].str.extract(r'(\\d{2},\\d{3}|\\d+)$', expand=False)\n",
    "agg_df[\"PORTAL_NUM\"] = num_str.str.replace(\",\", \"\", regex=False).astype(int)\n",
    "\n",
    "# Quick sanity check: each portal should map to exactly one numeric value\n",
    "print(agg_df.groupby(\"PORTAL\")[\"PORTAL_NUM\"].nunique())\n",
    "print(agg_df[[\"PORTAL\", \"PORTAL_NUM\"]].drop_duplicates().sort_values(\"PORTAL\"))\n",
    "\n",
    "# 2) Define portal groups (based on your plan: 1, 2, (3+4), (5–8))\n",
    "portal_group_map = {\n",
    "    'E4S 55,620': 1,\n",
    "    'E4S 56,160': 2,\n",
    "    'E4S 56,490': 3,\n",
    "    'E4S 56,780': 3,\n",
    "    'E4S 57,055': 4,\n",
    "    'E4S 57,435': 4,\n",
    "    'E4S 57,820': 4,\n",
    "    'E4S 58,140': 4\n",
    "}\n",
    "agg_df[\"PORTAL_GROUP\"] = agg_df[\"PORTAL\"].map(portal_group_map)\n",
    "\n"
   ]
  },
  {
   "cell_type": "code",
   "execution_count": 13,
   "metadata": {},
   "outputs": [
    {
     "data": {
      "text/html": [
       "<div>\n",
       "<style scoped>\n",
       "    .dataframe tbody tr th:only-of-type {\n",
       "        vertical-align: middle;\n",
       "    }\n",
       "\n",
       "    .dataframe tbody tr th {\n",
       "        vertical-align: top;\n",
       "    }\n",
       "\n",
       "    .dataframe thead th {\n",
       "        text-align: right;\n",
       "    }\n",
       "</style>\n",
       "<table border=\"1\" class=\"dataframe\">\n",
       "  <thead>\n",
       "    <tr style=\"text-align: right;\">\n",
       "      <th></th>\n",
       "      <th>PORTAL</th>\n",
       "      <th>PORTAL_NUM</th>\n",
       "      <th>PORTAL_GROUP</th>\n",
       "    </tr>\n",
       "  </thead>\n",
       "  <tbody>\n",
       "    <tr>\n",
       "      <th>0</th>\n",
       "      <td>E4S 55,620</td>\n",
       "      <td>55620</td>\n",
       "      <td>1</td>\n",
       "    </tr>\n",
       "    <tr>\n",
       "      <th>31527</th>\n",
       "      <td>E4S 56,160</td>\n",
       "      <td>56160</td>\n",
       "      <td>2</td>\n",
       "    </tr>\n",
       "    <tr>\n",
       "      <th>63053</th>\n",
       "      <td>E4S 56,490</td>\n",
       "      <td>56490</td>\n",
       "      <td>3</td>\n",
       "    </tr>\n",
       "    <tr>\n",
       "      <th>95385</th>\n",
       "      <td>E4S 56,780</td>\n",
       "      <td>56780</td>\n",
       "      <td>3</td>\n",
       "    </tr>\n",
       "    <tr>\n",
       "      <th>127695</th>\n",
       "      <td>E4S 57,055</td>\n",
       "      <td>57055</td>\n",
       "      <td>4</td>\n",
       "    </tr>\n",
       "    <tr>\n",
       "      <th>159242</th>\n",
       "      <td>E4S 57,435</td>\n",
       "      <td>57435</td>\n",
       "      <td>4</td>\n",
       "    </tr>\n",
       "    <tr>\n",
       "      <th>191165</th>\n",
       "      <td>E4S 57,820</td>\n",
       "      <td>57820</td>\n",
       "      <td>4</td>\n",
       "    </tr>\n",
       "    <tr>\n",
       "      <th>218036</th>\n",
       "      <td>E4S 58,140</td>\n",
       "      <td>58140</td>\n",
       "      <td>4</td>\n",
       "    </tr>\n",
       "  </tbody>\n",
       "</table>\n",
       "</div>"
      ],
      "text/plain": [
       "            PORTAL  PORTAL_NUM  PORTAL_GROUP\n",
       "0       E4S 55,620       55620             1\n",
       "31527   E4S 56,160       56160             2\n",
       "63053   E4S 56,490       56490             3\n",
       "95385   E4S 56,780       56780             3\n",
       "127695  E4S 57,055       57055             4\n",
       "159242  E4S 57,435       57435             4\n",
       "191165  E4S 57,820       57820             4\n",
       "218036  E4S 58,140       58140             4"
      ]
     },
     "execution_count": 13,
     "metadata": {},
     "output_type": "execute_result"
    }
   ],
   "source": [
    "agg_df[[\"PORTAL\", \"PORTAL_NUM\", \"PORTAL_GROUP\"]].drop_duplicates()"
   ]
  },
  {
   "cell_type": "code",
   "execution_count": 14,
   "metadata": {},
   "outputs": [
    {
     "data": {
      "image/png": "[encoded data removed]",
      "text/plain": [
       "<Figure size 800x400 with 1 Axes>"
      ]
     },
     "metadata": {},
     "output_type": "display_data"
    }
   ],
   "source": [
    "import pandas as pd\n",
    "import matplotlib.pyplot as plt\n",
    "\n",
    "# --- 1) Convert timestamp to datetime if not already ---\n",
    "agg_df[\"timestamp\"] = pd.to_datetime(agg_df[\"timestamp\"])\n",
    "\n",
    "# --- 2) Extract hour of day ---\n",
    "agg_df[\"hour\"] = agg_df[\"timestamp\"].dt.hour\n",
    "\n",
    "# --- 3) Group by hour and compute average flow ---\n",
    "hourly_flow = agg_df.groupby(\"hour\")[\"FLOW\"].mean().reset_index()\n",
    "\n",
    "# --- 4) Plot ---\n",
    "plt.figure(figsize=(8,4))\n",
    "plt.plot(hourly_flow[\"hour\"], hourly_flow[\"FLOW\"], marker=\"o\", linewidth=2, color=\"steelblue\")\n",
    "plt.title(\"Average Traffic Flow by Hour of Day\", fontsize=14, weight=\"bold\")\n",
    "plt.xlabel(\"Hour of Day\")\n",
    "plt.ylabel(\"Average Flow (vehicles / minute)\")\n",
    "plt.grid(True, linestyle=\"--\", alpha=0.6)\n",
    "plt.xticks(range(4, 11))  \n",
    "plt.tight_layout()\n",
    "plt.show()\n"
   ]
  },
  {
   "cell_type": "markdown",
   "metadata": {},
   "source": [
    "## Export"
   ]
  },
  {
   "cell_type": "code",
   "execution_count": 15,
   "metadata": {},
   "outputs": [
    {
     "name": "stdout",
     "output_type": "stream",
     "text": [
      "Saved agg_df\n"
     ]
    }
   ],
   "source": [
    "# Save agg_df to CSV\n",
    "agg_df.to_csv(\"../Data/evaluation_dataset_preprocessed.csv\", index=False, sep=\";\")\n",
    "\n",
    "print(\"Saved agg_df\")\n"
   ]
  },
  {
   "cell_type": "markdown",
   "metadata": {},
   "source": []
  }
 ],
 "metadata": {
  "kernelspec": {
   "display_name": "Python (myenv)",
   "language": "python",
   "name": "myenv"
  },
  "language_info": {
   "codemirror_mode": {
    "name": "ipython",
    "version": 3
   },
   "file_extension": ".py",
   "mimetype": "text/x-python",
   "name": "python",
   "nbconvert_exporter": "python",
   "pygments_lexer": "ipython3",
   "version": "3.12.4"
  }
 },
 "nbformat": 4,
 "nbformat_minor": 2
}
