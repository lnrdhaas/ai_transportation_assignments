{
 "cells": [
  {
   "cell_type": "code",
   "execution_count": 2,
   "metadata": {},
   "outputs": [],
   "source": [
    "import pandas as pd\n",
    "import plotly.express as px\n"
   ]
  },
  {
   "cell_type": "markdown",
   "metadata": {},
   "source": [
    "## Exploratory Analysis"
   ]
  },
  {
   "cell_type": "code",
   "execution_count": 3,
   "metadata": {},
   "outputs": [
    {
     "data": {
      "text/html": [
       "<div>\n",
       "<style scoped>\n",
       "    .dataframe tbody tr th:only-of-type {\n",
       "        vertical-align: middle;\n",
       "    }\n",
       "\n",
       "    .dataframe tbody tr th {\n",
       "        vertical-align: top;\n",
       "    }\n",
       "\n",
       "    .dataframe thead th {\n",
       "        text-align: right;\n",
       "    }\n",
       "</style>\n",
       "<table border=\"1\" class=\"dataframe\">\n",
       "  <thead>\n",
       "    <tr style=\"text-align: right;\">\n",
       "      <th></th>\n",
       "      <th>DP_ID</th>\n",
       "      <th>PORTAL</th>\n",
       "      <th>Date</th>\n",
       "      <th>Time</th>\n",
       "      <th>Interval_1</th>\n",
       "      <th>Interval_5</th>\n",
       "      <th>Interval_15</th>\n",
       "      <th>Interval_30</th>\n",
       "      <th>Interval_60</th>\n",
       "      <th>SPEED_MS_AVG</th>\n",
       "      <th>FLOW</th>\n",
       "    </tr>\n",
       "  </thead>\n",
       "  <tbody>\n",
       "    <tr>\n",
       "      <th>0</th>\n",
       "      <td>4872</td>\n",
       "      <td>E4S 56,780</td>\n",
       "      <td>20220105</td>\n",
       "      <td>04:00:00</td>\n",
       "      <td>240</td>\n",
       "      <td>48</td>\n",
       "      <td>16</td>\n",
       "      <td>8</td>\n",
       "      <td>4</td>\n",
       "      <td>17.50</td>\n",
       "      <td>1.0</td>\n",
       "    </tr>\n",
       "    <tr>\n",
       "      <th>1</th>\n",
       "      <td>4430</td>\n",
       "      <td>E4S 57,435</td>\n",
       "      <td>20220105</td>\n",
       "      <td>04:00:00</td>\n",
       "      <td>240</td>\n",
       "      <td>48</td>\n",
       "      <td>16</td>\n",
       "      <td>8</td>\n",
       "      <td>4</td>\n",
       "      <td>24.44</td>\n",
       "      <td>1.0</td>\n",
       "    </tr>\n",
       "    <tr>\n",
       "      <th>2</th>\n",
       "      <td>4436</td>\n",
       "      <td>E4S 57,820</td>\n",
       "      <td>20220105</td>\n",
       "      <td>04:00:00</td>\n",
       "      <td>240</td>\n",
       "      <td>48</td>\n",
       "      <td>16</td>\n",
       "      <td>8</td>\n",
       "      <td>4</td>\n",
       "      <td>23.61</td>\n",
       "      <td>1.0</td>\n",
       "    </tr>\n",
       "    <tr>\n",
       "      <th>3</th>\n",
       "      <td>1079</td>\n",
       "      <td>E4S 56,780</td>\n",
       "      <td>20220105</td>\n",
       "      <td>04:00:00</td>\n",
       "      <td>240</td>\n",
       "      <td>48</td>\n",
       "      <td>16</td>\n",
       "      <td>8</td>\n",
       "      <td>4</td>\n",
       "      <td>23.75</td>\n",
       "      <td>2.0</td>\n",
       "    </tr>\n",
       "    <tr>\n",
       "      <th>4</th>\n",
       "      <td>1076</td>\n",
       "      <td>E4S 55,620</td>\n",
       "      <td>20220105</td>\n",
       "      <td>04:00:00</td>\n",
       "      <td>240</td>\n",
       "      <td>48</td>\n",
       "      <td>16</td>\n",
       "      <td>8</td>\n",
       "      <td>4</td>\n",
       "      <td>21.30</td>\n",
       "      <td>3.0</td>\n",
       "    </tr>\n",
       "    <tr>\n",
       "      <th>...</th>\n",
       "      <td>...</td>\n",
       "      <td>...</td>\n",
       "      <td>...</td>\n",
       "      <td>...</td>\n",
       "      <td>...</td>\n",
       "      <td>...</td>\n",
       "      <td>...</td>\n",
       "      <td>...</td>\n",
       "      <td>...</td>\n",
       "      <td>...</td>\n",
       "      <td>...</td>\n",
       "    </tr>\n",
       "    <tr>\n",
       "      <th>803496</th>\n",
       "      <td>1079</td>\n",
       "      <td>E4S 56,780</td>\n",
       "      <td>20220630</td>\n",
       "      <td>10:00:00</td>\n",
       "      <td>600</td>\n",
       "      <td>120</td>\n",
       "      <td>40</td>\n",
       "      <td>20</td>\n",
       "      <td>10</td>\n",
       "      <td>16.77</td>\n",
       "      <td>20.0</td>\n",
       "    </tr>\n",
       "    <tr>\n",
       "      <th>803497</th>\n",
       "      <td>1443</td>\n",
       "      <td>E4S 57,055</td>\n",
       "      <td>20220630</td>\n",
       "      <td>10:00:00</td>\n",
       "      <td>600</td>\n",
       "      <td>120</td>\n",
       "      <td>40</td>\n",
       "      <td>20</td>\n",
       "      <td>10</td>\n",
       "      <td>20.94</td>\n",
       "      <td>24.0</td>\n",
       "    </tr>\n",
       "    <tr>\n",
       "      <th>803498</th>\n",
       "      <td>902</td>\n",
       "      <td>E4S 56,490</td>\n",
       "      <td>20220630</td>\n",
       "      <td>10:00:00</td>\n",
       "      <td>600</td>\n",
       "      <td>120</td>\n",
       "      <td>40</td>\n",
       "      <td>20</td>\n",
       "      <td>10</td>\n",
       "      <td>18.21</td>\n",
       "      <td>19.0</td>\n",
       "    </tr>\n",
       "    <tr>\n",
       "      <th>803499</th>\n",
       "      <td>1076</td>\n",
       "      <td>E4S 55,620</td>\n",
       "      <td>20220630</td>\n",
       "      <td>10:00:00</td>\n",
       "      <td>600</td>\n",
       "      <td>120</td>\n",
       "      <td>40</td>\n",
       "      <td>20</td>\n",
       "      <td>10</td>\n",
       "      <td>17.53</td>\n",
       "      <td>22.0</td>\n",
       "    </tr>\n",
       "    <tr>\n",
       "      <th>803500</th>\n",
       "      <td>1254</td>\n",
       "      <td>E4S 55,620</td>\n",
       "      <td>20220630</td>\n",
       "      <td>10:00:00</td>\n",
       "      <td>600</td>\n",
       "      <td>120</td>\n",
       "      <td>40</td>\n",
       "      <td>20</td>\n",
       "      <td>10</td>\n",
       "      <td>21.13</td>\n",
       "      <td>24.0</td>\n",
       "    </tr>\n",
       "  </tbody>\n",
       "</table>\n",
       "<p>803501 rows × 11 columns</p>\n",
       "</div>"
      ],
      "text/plain": [
       "        DP_ID      PORTAL      Date      Time  Interval_1  Interval_5  \\\n",
       "0        4872  E4S 56,780  20220105  04:00:00         240          48   \n",
       "1        4430  E4S 57,435  20220105  04:00:00         240          48   \n",
       "2        4436  E4S 57,820  20220105  04:00:00         240          48   \n",
       "3        1079  E4S 56,780  20220105  04:00:00         240          48   \n",
       "4        1076  E4S 55,620  20220105  04:00:00         240          48   \n",
       "...       ...         ...       ...       ...         ...         ...   \n",
       "803496   1079  E4S 56,780  20220630  10:00:00         600         120   \n",
       "803497   1443  E4S 57,055  20220630  10:00:00         600         120   \n",
       "803498    902  E4S 56,490  20220630  10:00:00         600         120   \n",
       "803499   1076  E4S 55,620  20220630  10:00:00         600         120   \n",
       "803500   1254  E4S 55,620  20220630  10:00:00         600         120   \n",
       "\n",
       "        Interval_15  Interval_30  Interval_60  SPEED_MS_AVG  FLOW  \n",
       "0                16            8            4         17.50   1.0  \n",
       "1                16            8            4         24.44   1.0  \n",
       "2                16            8            4         23.61   1.0  \n",
       "3                16            8            4         23.75   2.0  \n",
       "4                16            8            4         21.30   3.0  \n",
       "...             ...          ...          ...           ...   ...  \n",
       "803496           40           20           10         16.77  20.0  \n",
       "803497           40           20           10         20.94  24.0  \n",
       "803498           40           20           10         18.21  19.0  \n",
       "803499           40           20           10         17.53  22.0  \n",
       "803500           40           20           10         21.13  24.0  \n",
       "\n",
       "[803501 rows x 11 columns]"
      ]
     },
     "execution_count": 3,
     "metadata": {},
     "output_type": "execute_result"
    }
   ],
   "source": [
    "training_df =  pd.read_csv(\"../Data/dataset_for_traffic_project_assignment/training_dataset.csv\", sep=\";\")\n",
    "\n",
    "\n",
    "evaluation_df = pd.read_csv(\"../Data/dataset_for_traffic_project_assignment/evaluation_dataset.csv\", sep=\";\")\n",
    "\n",
    "final_df = pd.read_csv(\"../Data/dataset_for_traffic_project_assignment/final_evaluation_dataset.csv\", sep=\";\")\n",
    "\n",
    "final_df"
   ]
  },
  {
   "cell_type": "code",
   "execution_count": 4,
   "metadata": {},
   "outputs": [
    {
     "name": "stdout",
     "output_type": "stream",
     "text": [
      "Number of unique PORTAL entries: 8\n"
     ]
    }
   ],
   "source": [
    "unique_count = final_df[\"PORTAL\"].nunique()\n",
    "print(\"Number of unique PORTAL entries:\", unique_count)\n",
    "\n"
   ]
  },
  {
   "cell_type": "code",
   "execution_count": 5,
   "metadata": {},
   "outputs": [
    {
     "name": "stderr",
     "output_type": "stream",
     "text": [
      "/var/folders/ww/hnj0z7l577b2_jzdg6515pfm0000gn/T/ipykernel_12146/2113755138.py:2: UserWarning: Boolean Series key will be reindexed to match DataFrame index.\n",
      "  plot_training_df = training_df[:1000][training_df[\"PORTAL\"] == \"E4S 55,620\"]\n"
     ]
    },
    {
     "name": "stdout",
     "output_type": "stream",
     "text": [
      "Number of unique dp_ids per portal: 3\n"
     ]
    },
    {
     "data": {
      "application/vnd.plotly.v1+json": {
       "config": {
        "plotlyServerURL": "https://plot.ly"
       },
       "data": [
        {
         "hovertemplate": "Metric=FLOW<br>datetime=%{x}<br>Value=%{y}<extra></extra>",
         "legendgroup": "FLOW",
         "marker": {
          "color": "#636efa",
          "symbol": "circle"
         },
         "mode": "markers",
         "name": "FLOW",
         "orientation": "v",
         "showlegend": true,
         "type": "scatter",
         "x": [
          "2021-06-01T04:00:00",
          "2021-06-01T04:00:00",
          "2021-06-01T04:00:00",
          "2021-06-01T04:01:00",
          "2021-06-01T04:01:00",
          "2021-06-01T04:01:00",
          "2021-06-01T04:02:00",
          "2021-06-01T04:02:00",
          "2021-06-01T04:02:00",
          "2021-06-01T04:03:00",
          "2021-06-01T04:03:00",
          "2021-06-01T04:03:00",
          "2021-06-01T04:04:00",
          "2021-06-01T04:04:00",
          "2021-06-01T04:04:00",
          "2021-06-01T04:05:00",
          "2021-06-01T04:05:00",
          "2021-06-01T04:05:00",
          "2021-06-01T04:06:00",
          "2021-06-01T04:06:00",
          "2021-06-01T04:06:00",
          "2021-06-01T04:07:00",
          "2021-06-01T04:07:00",
          "2021-06-01T04:07:00",
          "2021-06-01T04:08:00",
          "2021-06-01T04:08:00",
          "2021-06-01T04:08:00",
          "2021-06-01T04:09:00",
          "2021-06-01T04:09:00",
          "2021-06-01T04:09:00",
          "2021-06-01T04:10:00",
          "2021-06-01T04:10:00",
          "2021-06-01T04:10:00",
          "2021-06-01T04:11:00",
          "2021-06-01T04:11:00",
          "2021-06-01T04:11:00",
          "2021-06-01T04:12:00",
          "2021-06-01T04:12:00",
          "2021-06-01T04:12:00",
          "2021-06-01T04:13:00",
          "2021-06-01T04:13:00",
          "2021-06-01T04:13:00",
          "2021-06-01T04:14:00",
          "2021-06-01T04:14:00",
          "2021-06-01T04:14:00",
          "2021-06-01T04:15:00",
          "2021-06-01T04:15:00",
          "2021-06-01T04:15:00",
          "2021-06-01T04:16:00",
          "2021-06-01T04:16:00",
          "2021-06-01T04:16:00",
          "2021-06-01T04:17:00",
          "2021-06-01T04:17:00",
          "2021-06-01T04:17:00",
          "2021-06-01T04:18:00",
          "2021-06-01T04:18:00",
          "2021-06-01T04:18:00",
          "2021-06-01T04:19:00",
          "2021-06-01T04:19:00",
          "2021-06-01T04:19:00",
          "2021-06-01T04:20:00",
          "2021-06-01T04:20:00",
          "2021-06-01T04:20:00",
          "2021-06-01T04:21:00",
          "2021-06-01T04:21:00",
          "2021-06-01T04:21:00",
          "2021-06-01T04:22:00",
          "2021-06-01T04:22:00",
          "2021-06-01T04:22:00",
          "2021-06-01T04:23:00",
          "2021-06-01T04:23:00",
          "2021-06-01T04:23:00",
          "2021-06-01T04:24:00",
          "2021-06-01T04:24:00",
          "2021-06-01T04:24:00",
          "2021-06-01T04:25:00",
          "2021-06-01T04:25:00",
          "2021-06-01T04:25:00",
          "2021-06-01T04:26:00",
          "2021-06-01T04:26:00",
          "2021-06-01T04:26:00",
          "2021-06-01T04:27:00",
          "2021-06-01T04:27:00",
          "2021-06-01T04:27:00",
          "2021-06-01T04:28:00",
          "2021-06-01T04:28:00",
          "2021-06-01T04:28:00",
          "2021-06-01T04:29:00",
          "2021-06-01T04:29:00",
          "2021-06-01T04:29:00",
          "2021-06-01T04:30:00",
          "2021-06-01T04:30:00",
          "2021-06-01T04:30:00",
          "2021-06-01T04:31:00",
          "2021-06-01T04:31:00",
          "2021-06-01T04:31:00",
          "2021-06-01T04:32:00",
          "2021-06-01T04:32:00",
          "2021-06-01T04:32:00",
          "2021-06-01T04:33:00",
          "2021-06-01T04:33:00",
          "2021-06-01T04:33:00",
          "2021-06-01T04:34:00",
          "2021-06-01T04:34:00",
          "2021-06-01T04:34:00",
          "2021-06-01T04:35:00",
          "2021-06-01T04:35:00",
          "2021-06-01T04:35:00",
          "2021-06-01T04:36:00",
          "2021-06-01T04:36:00",
          "2021-06-01T04:36:00",
          "2021-06-01T04:37:00",
          "2021-06-01T04:37:00",
          "2021-06-01T04:37:00",
          "2021-06-01T04:38:00",
          "2021-06-01T04:38:00",
          "2021-06-01T04:38:00",
          "2021-06-01T04:39:00",
          "2021-06-01T04:39:00",
          "2021-06-01T04:39:00",
          "2021-06-01T04:40:00",
          "2021-06-01T04:40:00",
          "2021-06-01T04:40:00",
          "2021-06-01T04:41:00",
          "2021-06-01T04:41:00",
          "2021-06-01T04:41:00",
          "2021-06-01T04:42:00",
          "2021-06-01T04:42:00",
          "2021-06-01T04:42:00",
          "2021-06-01T04:43:00",
          "2021-06-01T04:43:00",
          "2021-06-01T04:43:00",
          "2021-06-01T04:44:00",
          "2021-06-01T04:44:00",
          "2021-06-01T04:44:00",
          "2021-06-01T04:45:00",
          "2021-06-01T04:45:00",
          "2021-06-01T04:45:00"
         ],
         "xaxis": "x",
         "y": [
          19,
          4,
          6,
          1,
          12,
          13,
          18,
          7,
          13,
          7,
          10,
          17,
          14,
          8,
          7,
          3,
          7,
          17,
          20,
          11,
          7,
          11,
          11,
          18,
          16,
          5,
          10,
          11,
          13,
          17,
          15,
          8,
          8,
          11,
          10,
          15,
          19,
          9,
          8,
          14,
          12,
          18,
          18,
          19,
          16,
          8,
          14,
          17,
          19,
          21,
          24,
          22,
          15,
          18,
          20,
          17,
          20,
          13,
          16,
          11,
          23,
          32,
          18,
          17,
          15,
          19,
          25,
          19,
          15,
          25,
          12,
          19,
          23,
          17,
          19,
          20,
          22,
          17,
          22,
          20,
          12,
          20,
          20,
          16,
          18,
          24,
          23,
          16,
          13,
          17,
          21,
          19,
          21,
          15,
          14,
          24,
          18,
          13,
          18,
          27,
          17,
          23,
          18,
          20,
          14,
          21,
          18,
          22,
          29,
          27,
          14,
          17,
          13,
          19,
          19,
          13,
          19,
          18,
          18,
          17,
          22,
          20,
          10,
          28,
          19,
          22,
          19,
          15,
          20,
          17,
          12,
          25,
          20,
          17,
          16,
          15,
          12,
          20
         ],
         "yaxis": "y"
        }
       ],
       "layout": {
        "legend": {
         "title": {
          "text": "Metric"
         },
         "tracegroupgap": 0
        },
        "template": {
         "data": {
          "bar": [
           {
            "error_x": {
             "color": "#2a3f5f"
            },
            "error_y": {
             "color": "#2a3f5f"
            },
            "marker": {
             "line": {
              "color": "#E5ECF6",
              "width": 0.5
             },
             "pattern": {
              "fillmode": "overlay",
              "size": 10,
              "solidity": 0.2
             }
            },
            "type": "bar"
           }
          ],
          "barpolar": [
           {
            "marker": {
             "line": {
              "color": "#E5ECF6",
              "width": 0.5
             },
             "pattern": {
              "fillmode": "overlay",
              "size": 10,
              "solidity": 0.2
             }
            },
            "type": "barpolar"
           }
          ],
          "carpet": [
           {
            "aaxis": {
             "endlinecolor": "#2a3f5f",
             "gridcolor": "white",
             "linecolor": "white",
             "minorgridcolor": "white",
             "startlinecolor": "#2a3f5f"
            },
            "baxis": {
             "endlinecolor": "#2a3f5f",
             "gridcolor": "white",
             "linecolor": "white",
             "minorgridcolor": "white",
             "startlinecolor": "#2a3f5f"
            },
            "type": "carpet"
           }
          ],
          "choropleth": [
           {
            "colorbar": {
             "outlinewidth": 0,
             "ticks": ""
            },
            "type": "choropleth"
           }
          ],
          "contour": [
           {
            "colorbar": {
             "outlinewidth": 0,
             "ticks": ""
            },
            "colorscale": [
             [
              0,
              "#0d0887"
             ],
             [
              0.1111111111111111,
              "#46039f"
             ],
             [
              0.2222222222222222,
              "#7201a8"
             ],
             [
              0.3333333333333333,
              "#9c179e"
             ],
             [
              0.4444444444444444,
              "#bd3786"
             ],
             [
              0.5555555555555556,
              "#d8576b"
             ],
             [
              0.6666666666666666,
              "#ed7953"
             ],
             [
              0.7777777777777778,
              "#fb9f3a"
             ],
             [
              0.8888888888888888,
              "#fdca26"
             ],
             [
              1,
              "#f0f921"
             ]
            ],
            "type": "contour"
           }
          ],
          "contourcarpet": [
           {
            "colorbar": {
             "outlinewidth": 0,
             "ticks": ""
            },
            "type": "contourcarpet"
           }
          ],
          "heatmap": [
           {
            "colorbar": {
             "outlinewidth": 0,
             "ticks": ""
            },
            "colorscale": [
             [
              0,
              "#0d0887"
             ],
             [
              0.1111111111111111,
              "#46039f"
             ],
             [
              0.2222222222222222,
              "#7201a8"
             ],
             [
              0.3333333333333333,
              "#9c179e"
             ],
             [
              0.4444444444444444,
              "#bd3786"
             ],
             [
              0.5555555555555556,
              "#d8576b"
             ],
             [
              0.6666666666666666,
              "#ed7953"
             ],
             [
              0.7777777777777778,
              "#fb9f3a"
             ],
             [
              0.8888888888888888,
              "#fdca26"
             ],
             [
              1,
              "#f0f921"
             ]
            ],
            "type": "heatmap"
           }
          ],
          "heatmapgl": [
           {
            "colorbar": {
             "outlinewidth": 0,
             "ticks": ""
            },
            "colorscale": [
             [
              0,
              "#0d0887"
             ],
             [
              0.1111111111111111,
              "#46039f"
             ],
             [
              0.2222222222222222,
              "#7201a8"
             ],
             [
              0.3333333333333333,
              "#9c179e"
             ],
             [
              0.4444444444444444,
              "#bd3786"
             ],
             [
              0.5555555555555556,
              "#d8576b"
             ],
             [
              0.6666666666666666,
              "#ed7953"
             ],
             [
              0.7777777777777778,
              "#fb9f3a"
             ],
             [
              0.8888888888888888,
              "#fdca26"
             ],
             [
              1,
              "#f0f921"
             ]
            ],
            "type": "heatmapgl"
           }
          ],
          "histogram": [
           {
            "marker": {
             "pattern": {
              "fillmode": "overlay",
              "size": 10,
              "solidity": 0.2
             }
            },
            "type": "histogram"
           }
          ],
          "histogram2d": [
           {
            "colorbar": {
             "outlinewidth": 0,
             "ticks": ""
            },
            "colorscale": [
             [
              0,
              "#0d0887"
             ],
             [
              0.1111111111111111,
              "#46039f"
             ],
             [
              0.2222222222222222,
              "#7201a8"
             ],
             [
              0.3333333333333333,
              "#9c179e"
             ],
             [
              0.4444444444444444,
              "#bd3786"
             ],
             [
              0.5555555555555556,
              "#d8576b"
             ],
             [
              0.6666666666666666,
              "#ed7953"
             ],
             [
              0.7777777777777778,
              "#fb9f3a"
             ],
             [
              0.8888888888888888,
              "#fdca26"
             ],
             [
              1,
              "#f0f921"
             ]
            ],
            "type": "histogram2d"
           }
          ],
          "histogram2dcontour": [
           {
            "colorbar": {
             "outlinewidth": 0,
             "ticks": ""
            },
            "colorscale": [
             [
              0,
              "#0d0887"
             ],
             [
              0.1111111111111111,
              "#46039f"
             ],
             [
              0.2222222222222222,
              "#7201a8"
             ],
             [
              0.3333333333333333,
              "#9c179e"
             ],
             [
              0.4444444444444444,
              "#bd3786"
             ],
             [
              0.5555555555555556,
              "#d8576b"
             ],
             [
              0.6666666666666666,
              "#ed7953"
             ],
             [
              0.7777777777777778,
              "#fb9f3a"
             ],
             [
              0.8888888888888888,
              "#fdca26"
             ],
             [
              1,
              "#f0f921"
             ]
            ],
            "type": "histogram2dcontour"
           }
          ],
          "mesh3d": [
           {
            "colorbar": {
             "outlinewidth": 0,
             "ticks": ""
            },
            "type": "mesh3d"
           }
          ],
          "parcoords": [
           {
            "line": {
             "colorbar": {
              "outlinewidth": 0,
              "ticks": ""
             }
            },
            "type": "parcoords"
           }
          ],
          "pie": [
           {
            "automargin": true,
            "type": "pie"
           }
          ],
          "scatter": [
           {
            "fillpattern": {
             "fillmode": "overlay",
             "size": 10,
             "solidity": 0.2
            },
            "type": "scatter"
           }
          ],
          "scatter3d": [
           {
            "line": {
             "colorbar": {
              "outlinewidth": 0,
              "ticks": ""
             }
            },
            "marker": {
             "colorbar": {
              "outlinewidth": 0,
              "ticks": ""
             }
            },
            "type": "scatter3d"
           }
          ],
          "scattercarpet": [
           {
            "marker": {
             "colorbar": {
              "outlinewidth": 0,
              "ticks": ""
             }
            },
            "type": "scattercarpet"
           }
          ],
          "scattergeo": [
           {
            "marker": {
             "colorbar": {
              "outlinewidth": 0,
              "ticks": ""
             }
            },
            "type": "scattergeo"
           }
          ],
          "scattergl": [
           {
            "marker": {
             "colorbar": {
              "outlinewidth": 0,
              "ticks": ""
             }
            },
            "type": "scattergl"
           }
          ],
          "scattermapbox": [
           {
            "marker": {
             "colorbar": {
              "outlinewidth": 0,
              "ticks": ""
             }
            },
            "type": "scattermapbox"
           }
          ],
          "scatterpolar": [
           {
            "marker": {
             "colorbar": {
              "outlinewidth": 0,
              "ticks": ""
             }
            },
            "type": "scatterpolar"
           }
          ],
          "scatterpolargl": [
           {
            "marker": {
             "colorbar": {
              "outlinewidth": 0,
              "ticks": ""
             }
            },
            "type": "scatterpolargl"
           }
          ],
          "scatterternary": [
           {
            "marker": {
             "colorbar": {
              "outlinewidth": 0,
              "ticks": ""
             }
            },
            "type": "scatterternary"
           }
          ],
          "surface": [
           {
            "colorbar": {
             "outlinewidth": 0,
             "ticks": ""
            },
            "colorscale": [
             [
              0,
              "#0d0887"
             ],
             [
              0.1111111111111111,
              "#46039f"
             ],
             [
              0.2222222222222222,
              "#7201a8"
             ],
             [
              0.3333333333333333,
              "#9c179e"
             ],
             [
              0.4444444444444444,
              "#bd3786"
             ],
             [
              0.5555555555555556,
              "#d8576b"
             ],
             [
              0.6666666666666666,
              "#ed7953"
             ],
             [
              0.7777777777777778,
              "#fb9f3a"
             ],
             [
              0.8888888888888888,
              "#fdca26"
             ],
             [
              1,
              "#f0f921"
             ]
            ],
            "type": "surface"
           }
          ],
          "table": [
           {
            "cells": {
             "fill": {
              "color": "#EBF0F8"
             },
             "line": {
              "color": "white"
             }
            },
            "header": {
             "fill": {
              "color": "#C8D4E3"
             },
             "line": {
              "color": "white"
             }
            },
            "type": "table"
           }
          ]
         },
         "layout": {
          "annotationdefaults": {
           "arrowcolor": "#2a3f5f",
           "arrowhead": 0,
           "arrowwidth": 1
          },
          "autotypenumbers": "strict",
          "coloraxis": {
           "colorbar": {
            "outlinewidth": 0,
            "ticks": ""
           }
          },
          "colorscale": {
           "diverging": [
            [
             0,
             "#8e0152"
            ],
            [
             0.1,
             "#c51b7d"
            ],
            [
             0.2,
             "#de77ae"
            ],
            [
             0.3,
             "#f1b6da"
            ],
            [
             0.4,
             "#fde0ef"
            ],
            [
             0.5,
             "#f7f7f7"
            ],
            [
             0.6,
             "#e6f5d0"
            ],
            [
             0.7,
             "#b8e186"
            ],
            [
             0.8,
             "#7fbc41"
            ],
            [
             0.9,
             "#4d9221"
            ],
            [
             1,
             "#276419"
            ]
           ],
           "sequential": [
            [
             0,
             "#0d0887"
            ],
            [
             0.1111111111111111,
             "#46039f"
            ],
            [
             0.2222222222222222,
             "#7201a8"
            ],
            [
             0.3333333333333333,
             "#9c179e"
            ],
            [
             0.4444444444444444,
             "#bd3786"
            ],
            [
             0.5555555555555556,
             "#d8576b"
            ],
            [
             0.6666666666666666,
             "#ed7953"
            ],
            [
             0.7777777777777778,
             "#fb9f3a"
            ],
            [
             0.8888888888888888,
             "#fdca26"
            ],
            [
             1,
             "#f0f921"
            ]
           ],
           "sequentialminus": [
            [
             0,
             "#0d0887"
            ],
            [
             0.1111111111111111,
             "#46039f"
            ],
            [
             0.2222222222222222,
             "#7201a8"
            ],
            [
             0.3333333333333333,
             "#9c179e"
            ],
            [
             0.4444444444444444,
             "#bd3786"
            ],
            [
             0.5555555555555556,
             "#d8576b"
            ],
            [
             0.6666666666666666,
             "#ed7953"
            ],
            [
             0.7777777777777778,
             "#fb9f3a"
            ],
            [
             0.8888888888888888,
             "#fdca26"
            ],
            [
             1,
             "#f0f921"
            ]
           ]
          },
          "colorway": [
           "#636efa",
           "#EF553B",
           "#00cc96",
           "#ab63fa",
           "#FFA15A",
           "#19d3f3",
           "#FF6692",
           "#B6E880",
           "#FF97FF",
           "#FECB52"
          ],
          "font": {
           "color": "#2a3f5f"
          },
          "geo": {
           "bgcolor": "white",
           "lakecolor": "white",
           "landcolor": "#E5ECF6",
           "showlakes": true,
           "showland": true,
           "subunitcolor": "white"
          },
          "hoverlabel": {
           "align": "left"
          },
          "hovermode": "closest",
          "mapbox": {
           "style": "light"
          },
          "paper_bgcolor": "white",
          "plot_bgcolor": "#E5ECF6",
          "polar": {
           "angularaxis": {
            "gridcolor": "white",
            "linecolor": "white",
            "ticks": ""
           },
           "bgcolor": "#E5ECF6",
           "radialaxis": {
            "gridcolor": "white",
            "linecolor": "white",
            "ticks": ""
           }
          },
          "scene": {
           "xaxis": {
            "backgroundcolor": "#E5ECF6",
            "gridcolor": "white",
            "gridwidth": 2,
            "linecolor": "white",
            "showbackground": true,
            "ticks": "",
            "zerolinecolor": "white"
           },
           "yaxis": {
            "backgroundcolor": "#E5ECF6",
            "gridcolor": "white",
            "gridwidth": 2,
            "linecolor": "white",
            "showbackground": true,
            "ticks": "",
            "zerolinecolor": "white"
           },
           "zaxis": {
            "backgroundcolor": "#E5ECF6",
            "gridcolor": "white",
            "gridwidth": 2,
            "linecolor": "white",
            "showbackground": true,
            "ticks": "",
            "zerolinecolor": "white"
           }
          },
          "shapedefaults": {
           "line": {
            "color": "#2a3f5f"
           }
          },
          "ternary": {
           "aaxis": {
            "gridcolor": "white",
            "linecolor": "white",
            "ticks": ""
           },
           "baxis": {
            "gridcolor": "white",
            "linecolor": "white",
            "ticks": ""
           },
           "bgcolor": "#E5ECF6",
           "caxis": {
            "gridcolor": "white",
            "linecolor": "white",
            "ticks": ""
           }
          },
          "title": {
           "x": 0.05
          },
          "xaxis": {
           "automargin": true,
           "gridcolor": "white",
           "linecolor": "white",
           "ticks": "",
           "title": {
            "standoff": 15
           },
           "zerolinecolor": "white",
           "zerolinewidth": 2
          },
          "yaxis": {
           "automargin": true,
           "gridcolor": "white",
           "linecolor": "white",
           "ticks": "",
           "title": {
            "standoff": 15
           },
           "zerolinecolor": "white",
           "zerolinewidth": 2
          }
         }
        },
        "title": {
         "text": "Average Speed and Flow over Time"
        },
        "xaxis": {
         "anchor": "y",
         "domain": [
          0,
          1
         ],
         "title": {
          "text": "datetime"
         }
        },
        "yaxis": {
         "anchor": "x",
         "domain": [
          0,
          1
         ],
         "title": {
          "text": "Value"
         }
        }
       }
      }
     },
     "metadata": {},
     "output_type": "display_data"
    },
    {
     "data": {
      "text/html": [
       "<div>\n",
       "<style scoped>\n",
       "    .dataframe tbody tr th:only-of-type {\n",
       "        vertical-align: middle;\n",
       "    }\n",
       "\n",
       "    .dataframe tbody tr th {\n",
       "        vertical-align: top;\n",
       "    }\n",
       "\n",
       "    .dataframe thead th {\n",
       "        text-align: right;\n",
       "    }\n",
       "</style>\n",
       "<table border=\"1\" class=\"dataframe\">\n",
       "  <thead>\n",
       "    <tr style=\"text-align: right;\">\n",
       "      <th></th>\n",
       "      <th>DP_ID</th>\n",
       "      <th>PORTAL</th>\n",
       "      <th>Date</th>\n",
       "      <th>Time</th>\n",
       "      <th>Interval_1</th>\n",
       "      <th>Interval_5</th>\n",
       "      <th>Interval_15</th>\n",
       "      <th>Interval_30</th>\n",
       "      <th>Interval_60</th>\n",
       "      <th>SPEED_MS_AVG</th>\n",
       "      <th>FLOW</th>\n",
       "      <th>datetime</th>\n",
       "    </tr>\n",
       "  </thead>\n",
       "  <tbody>\n",
       "    <tr>\n",
       "      <th>17</th>\n",
       "      <td>751</td>\n",
       "      <td>E4S 55,620</td>\n",
       "      <td>20210601</td>\n",
       "      <td>04:00:00</td>\n",
       "      <td>240</td>\n",
       "      <td>48</td>\n",
       "      <td>16</td>\n",
       "      <td>8</td>\n",
       "      <td>4</td>\n",
       "      <td>21.53</td>\n",
       "      <td>19.0</td>\n",
       "      <td>2021-06-01 04:00:00</td>\n",
       "    </tr>\n",
       "    <tr>\n",
       "      <th>21</th>\n",
       "      <td>1254</td>\n",
       "      <td>E4S 55,620</td>\n",
       "      <td>20210601</td>\n",
       "      <td>04:00:00</td>\n",
       "      <td>240</td>\n",
       "      <td>48</td>\n",
       "      <td>16</td>\n",
       "      <td>8</td>\n",
       "      <td>4</td>\n",
       "      <td>24.53</td>\n",
       "      <td>4.0</td>\n",
       "      <td>2021-06-01 04:00:00</td>\n",
       "    </tr>\n",
       "    <tr>\n",
       "      <th>22</th>\n",
       "      <td>1076</td>\n",
       "      <td>E4S 55,620</td>\n",
       "      <td>20210601</td>\n",
       "      <td>04:00:00</td>\n",
       "      <td>240</td>\n",
       "      <td>48</td>\n",
       "      <td>16</td>\n",
       "      <td>8</td>\n",
       "      <td>4</td>\n",
       "      <td>20.27</td>\n",
       "      <td>6.0</td>\n",
       "      <td>2021-06-01 04:00:00</td>\n",
       "    </tr>\n",
       "    <tr>\n",
       "      <th>24</th>\n",
       "      <td>1254</td>\n",
       "      <td>E4S 55,620</td>\n",
       "      <td>20210601</td>\n",
       "      <td>04:01:00</td>\n",
       "      <td>241</td>\n",
       "      <td>48</td>\n",
       "      <td>16</td>\n",
       "      <td>8</td>\n",
       "      <td>4</td>\n",
       "      <td>27.20</td>\n",
       "      <td>1.0</td>\n",
       "      <td>2021-06-01 04:01:00</td>\n",
       "    </tr>\n",
       "    <tr>\n",
       "      <th>25</th>\n",
       "      <td>1076</td>\n",
       "      <td>E4S 55,620</td>\n",
       "      <td>20210601</td>\n",
       "      <td>04:01:00</td>\n",
       "      <td>241</td>\n",
       "      <td>48</td>\n",
       "      <td>16</td>\n",
       "      <td>8</td>\n",
       "      <td>4</td>\n",
       "      <td>21.14</td>\n",
       "      <td>12.0</td>\n",
       "      <td>2021-06-01 04:01:00</td>\n",
       "    </tr>\n",
       "    <tr>\n",
       "      <th>...</th>\n",
       "      <td>...</td>\n",
       "      <td>...</td>\n",
       "      <td>...</td>\n",
       "      <td>...</td>\n",
       "      <td>...</td>\n",
       "      <td>...</td>\n",
       "      <td>...</td>\n",
       "      <td>...</td>\n",
       "      <td>...</td>\n",
       "      <td>...</td>\n",
       "      <td>...</td>\n",
       "      <td>...</td>\n",
       "    </tr>\n",
       "    <tr>\n",
       "      <th>990</th>\n",
       "      <td>1254</td>\n",
       "      <td>E4S 55,620</td>\n",
       "      <td>20210601</td>\n",
       "      <td>04:44:00</td>\n",
       "      <td>284</td>\n",
       "      <td>56</td>\n",
       "      <td>18</td>\n",
       "      <td>9</td>\n",
       "      <td>4</td>\n",
       "      <td>23.32</td>\n",
       "      <td>17.0</td>\n",
       "      <td>2021-06-01 04:44:00</td>\n",
       "    </tr>\n",
       "    <tr>\n",
       "      <th>991</th>\n",
       "      <td>1076</td>\n",
       "      <td>E4S 55,620</td>\n",
       "      <td>20210601</td>\n",
       "      <td>04:44:00</td>\n",
       "      <td>284</td>\n",
       "      <td>56</td>\n",
       "      <td>18</td>\n",
       "      <td>9</td>\n",
       "      <td>4</td>\n",
       "      <td>20.55</td>\n",
       "      <td>16.0</td>\n",
       "      <td>2021-06-01 04:44:00</td>\n",
       "    </tr>\n",
       "    <tr>\n",
       "      <th>993</th>\n",
       "      <td>1254</td>\n",
       "      <td>E4S 55,620</td>\n",
       "      <td>20210601</td>\n",
       "      <td>04:45:00</td>\n",
       "      <td>285</td>\n",
       "      <td>57</td>\n",
       "      <td>19</td>\n",
       "      <td>9</td>\n",
       "      <td>4</td>\n",
       "      <td>23.35</td>\n",
       "      <td>15.0</td>\n",
       "      <td>2021-06-01 04:45:00</td>\n",
       "    </tr>\n",
       "    <tr>\n",
       "      <th>994</th>\n",
       "      <td>1076</td>\n",
       "      <td>E4S 55,620</td>\n",
       "      <td>20210601</td>\n",
       "      <td>04:45:00</td>\n",
       "      <td>285</td>\n",
       "      <td>57</td>\n",
       "      <td>19</td>\n",
       "      <td>9</td>\n",
       "      <td>4</td>\n",
       "      <td>20.01</td>\n",
       "      <td>12.0</td>\n",
       "      <td>2021-06-01 04:45:00</td>\n",
       "    </tr>\n",
       "    <tr>\n",
       "      <th>996</th>\n",
       "      <td>751</td>\n",
       "      <td>E4S 55,620</td>\n",
       "      <td>20210601</td>\n",
       "      <td>04:45:00</td>\n",
       "      <td>285</td>\n",
       "      <td>57</td>\n",
       "      <td>19</td>\n",
       "      <td>9</td>\n",
       "      <td>4</td>\n",
       "      <td>20.07</td>\n",
       "      <td>20.0</td>\n",
       "      <td>2021-06-01 04:45:00</td>\n",
       "    </tr>\n",
       "  </tbody>\n",
       "</table>\n",
       "<p>138 rows × 12 columns</p>\n",
       "</div>"
      ],
      "text/plain": [
       "     DP_ID      PORTAL      Date      Time  Interval_1  Interval_5  \\\n",
       "17     751  E4S 55,620  20210601  04:00:00         240          48   \n",
       "21    1254  E4S 55,620  20210601  04:00:00         240          48   \n",
       "22    1076  E4S 55,620  20210601  04:00:00         240          48   \n",
       "24    1254  E4S 55,620  20210601  04:01:00         241          48   \n",
       "25    1076  E4S 55,620  20210601  04:01:00         241          48   \n",
       "..     ...         ...       ...       ...         ...         ...   \n",
       "990   1254  E4S 55,620  20210601  04:44:00         284          56   \n",
       "991   1076  E4S 55,620  20210601  04:44:00         284          56   \n",
       "993   1254  E4S 55,620  20210601  04:45:00         285          57   \n",
       "994   1076  E4S 55,620  20210601  04:45:00         285          57   \n",
       "996    751  E4S 55,620  20210601  04:45:00         285          57   \n",
       "\n",
       "     Interval_15  Interval_30  Interval_60  SPEED_MS_AVG  FLOW  \\\n",
       "17            16            8            4         21.53  19.0   \n",
       "21            16            8            4         24.53   4.0   \n",
       "22            16            8            4         20.27   6.0   \n",
       "24            16            8            4         27.20   1.0   \n",
       "25            16            8            4         21.14  12.0   \n",
       "..           ...          ...          ...           ...   ...   \n",
       "990           18            9            4         23.32  17.0   \n",
       "991           18            9            4         20.55  16.0   \n",
       "993           19            9            4         23.35  15.0   \n",
       "994           19            9            4         20.01  12.0   \n",
       "996           19            9            4         20.07  20.0   \n",
       "\n",
       "               datetime  \n",
       "17  2021-06-01 04:00:00  \n",
       "21  2021-06-01 04:00:00  \n",
       "22  2021-06-01 04:00:00  \n",
       "24  2021-06-01 04:01:00  \n",
       "25  2021-06-01 04:01:00  \n",
       "..                  ...  \n",
       "990 2021-06-01 04:44:00  \n",
       "991 2021-06-01 04:44:00  \n",
       "993 2021-06-01 04:45:00  \n",
       "994 2021-06-01 04:45:00  \n",
       "996 2021-06-01 04:45:00  \n",
       "\n",
       "[138 rows x 12 columns]"
      ]
     },
     "execution_count": 5,
     "metadata": {},
     "output_type": "execute_result"
    }
   ],
   "source": [
    "training_df[\"datetime\"] = pd.to_datetime(training_df[\"Date\"].astype(str) + \" \" + training_df[\"Time\"])\n",
    "plot_training_df = training_df[:1000][training_df[\"PORTAL\"] == \"E4S 55,620\"]\n",
    "\n",
    "dp_count = plot_training_df[\"DP_ID\"].nunique()\n",
    "print(\"Number of unique dp_ids per portal:\", dp_count)\n",
    "\n",
    "\n",
    "# Create interactive line plot\n",
    "fig = px.scatter(\n",
    "    plot_training_df,\n",
    "    x=\"datetime\",\n",
    "    y=[\"FLOW\"],\n",
    "    labels={\"value\": \"Value\", \"variable\": \"Metric\"},\n",
    "    title=\"Average Speed and Flow over Time\"\n",
    ")\n",
    "\n",
    "fig.show()\n",
    "\n",
    "plot_training_df"
   ]
  },
  {
   "cell_type": "markdown",
   "metadata": {},
   "source": [
    "## Preprocessing"
   ]
  },
  {
   "cell_type": "markdown",
   "metadata": {},
   "source": [
    "### Data Cleaning"
   ]
  },
  {
   "cell_type": "code",
   "execution_count": 6,
   "metadata": {},
   "outputs": [
    {
     "name": "stdout",
     "output_type": "stream",
     "text": [
      "NaN counts per column:\n",
      "DP_ID            0\n",
      "PORTAL           0\n",
      "Date             0\n",
      "Time             0\n",
      "Interval_1       0\n",
      "Interval_5       0\n",
      "Interval_15      0\n",
      "Interval_30      0\n",
      "Interval_60      0\n",
      "SPEED_MS_AVG     0\n",
      "FLOW            62\n",
      "datetime         0\n",
      "dtype: int64\n",
      "\n",
      "Number of duplicate rows (same DP_ID, PORTAL, Date, Time): 0\n",
      "\n",
      "SPEED_MS_AVG: min = 0.0 , max = 45.83\n",
      "FLOW: min = 1.0 , max = 45.0\n"
     ]
    }
   ],
   "source": [
    "# 1. Check amount of NaNs in each column\n",
    "print(\"NaN counts per column:\")\n",
    "print(training_df.isna().sum())\n",
    "\n",
    "# 2. Check for duplicate entries (same DP_ID, PORTAL, Date, Time)\n",
    "dup_mask = training_df.duplicated(subset=[\"DP_ID\", \"PORTAL\", \"Date\", \"Time\"], keep=False)\n",
    "num_duplicates = dup_mask.sum()\n",
    "print(\"\\nNumber of duplicate rows (same DP_ID, PORTAL, Date, Time):\", num_duplicates)\n",
    "\n",
    "# 3. Min/Max values of SPEED_MS_AVG and FLOW\n",
    "print(\"\\nSPEED_MS_AVG: min =\", training_df[\"SPEED_MS_AVG\"].min(), \n",
    "      \", max =\", training_df[\"SPEED_MS_AVG\"].max())\n",
    "\n",
    "print(\"FLOW: min =\", training_df[\"FLOW\"].min(), \n",
    "      \", max =\", training_df[\"FLOW\"].max())\n"
   ]
  },
  {
   "cell_type": "code",
   "execution_count": 7,
   "metadata": {},
   "outputs": [],
   "source": [
    "# drop NaNs in target variable\n",
    "clean_training_df = training_df.dropna(subset=[\"FLOW\"])\n"
   ]
  },
  {
   "cell_type": "code",
   "execution_count": 8,
   "metadata": {},
   "outputs": [],
   "source": [
    "# Ensure a proper timestamp (optional but helpful for sorting)\n",
    "clean_training_df = clean_training_df.copy()\n",
    "clean_training_df[\"timestamp\"] = pd.to_datetime(\n",
    "    clean_training_df[\"Date\"].astype(str) + \" \" + clean_training_df[\"Time\"].astype(str),\n",
    "    format=\"%Y%m%d %H:%M:%S\"\n",
    ")\n",
    "\n",
    "# Sort within groups so rolling uses the correct temporal order\n",
    "clean_training_df = clean_training_df.sort_values([\"PORTAL\", \"DP_ID\", \"timestamp\"])\n",
    "\n",
    "# Apply 3-point centered rolling median *within each (PORTAL, DP_ID) group*\n",
    "clean_training_df[\"FLOW\"] = (\n",
    "    clean_training_df\n",
    "    .groupby([\"PORTAL\", \"DP_ID\"])[\"FLOW\"]\n",
    "    .transform(lambda s: s.rolling(window=3, center=True, min_periods=1).median())\n",
    ")\n",
    "\n",
    "clean_training_df[\"SPEED_MS_AVG\"] = (\n",
    "    clean_training_df\n",
    "    .groupby([\"PORTAL\", \"DP_ID\"])[\"SPEED_MS_AVG\"]\n",
    "    .transform(lambda s: s.rolling(window=3, center=True, min_periods=1).median())\n",
    ")"
   ]
  },
  {
   "cell_type": "code",
   "execution_count": 9,
   "metadata": {},
   "outputs": [
    {
     "data": {
      "text/html": [
       "<div>\n",
       "<style scoped>\n",
       "    .dataframe tbody tr th:only-of-type {\n",
       "        vertical-align: middle;\n",
       "    }\n",
       "\n",
       "    .dataframe tbody tr th {\n",
       "        vertical-align: top;\n",
       "    }\n",
       "\n",
       "    .dataframe thead th {\n",
       "        text-align: right;\n",
       "    }\n",
       "</style>\n",
       "<table border=\"1\" class=\"dataframe\">\n",
       "  <thead>\n",
       "    <tr style=\"text-align: right;\">\n",
       "      <th></th>\n",
       "      <th>DP_ID</th>\n",
       "      <th>PORTAL</th>\n",
       "      <th>Date</th>\n",
       "      <th>Time</th>\n",
       "      <th>Interval_1</th>\n",
       "      <th>Interval_5</th>\n",
       "      <th>Interval_15</th>\n",
       "      <th>Interval_30</th>\n",
       "      <th>Interval_60</th>\n",
       "      <th>SPEED_MS_AVG</th>\n",
       "      <th>FLOW</th>\n",
       "      <th>datetime</th>\n",
       "      <th>timestamp</th>\n",
       "    </tr>\n",
       "  </thead>\n",
       "  <tbody>\n",
       "    <tr>\n",
       "      <th>17</th>\n",
       "      <td>751</td>\n",
       "      <td>E4S 55,620</td>\n",
       "      <td>20210601</td>\n",
       "      <td>04:00:00</td>\n",
       "      <td>240</td>\n",
       "      <td>48</td>\n",
       "      <td>16</td>\n",
       "      <td>8</td>\n",
       "      <td>4</td>\n",
       "      <td>21.895</td>\n",
       "      <td>16.0</td>\n",
       "      <td>2021-06-01 04:00:00</td>\n",
       "      <td>2021-06-01 04:00:00</td>\n",
       "    </tr>\n",
       "    <tr>\n",
       "      <th>27</th>\n",
       "      <td>751</td>\n",
       "      <td>E4S 55,620</td>\n",
       "      <td>20210601</td>\n",
       "      <td>04:01:00</td>\n",
       "      <td>241</td>\n",
       "      <td>48</td>\n",
       "      <td>16</td>\n",
       "      <td>8</td>\n",
       "      <td>4</td>\n",
       "      <td>21.530</td>\n",
       "      <td>18.0</td>\n",
       "      <td>2021-06-01 04:01:00</td>\n",
       "      <td>2021-06-01 04:01:00</td>\n",
       "    </tr>\n",
       "    <tr>\n",
       "      <th>62</th>\n",
       "      <td>751</td>\n",
       "      <td>E4S 55,620</td>\n",
       "      <td>20210601</td>\n",
       "      <td>04:02:00</td>\n",
       "      <td>242</td>\n",
       "      <td>48</td>\n",
       "      <td>16</td>\n",
       "      <td>8</td>\n",
       "      <td>4</td>\n",
       "      <td>22.260</td>\n",
       "      <td>17.0</td>\n",
       "      <td>2021-06-01 04:02:00</td>\n",
       "      <td>2021-06-01 04:02:00</td>\n",
       "    </tr>\n",
       "    <tr>\n",
       "      <th>72</th>\n",
       "      <td>751</td>\n",
       "      <td>E4S 55,620</td>\n",
       "      <td>20210601</td>\n",
       "      <td>04:03:00</td>\n",
       "      <td>243</td>\n",
       "      <td>48</td>\n",
       "      <td>16</td>\n",
       "      <td>8</td>\n",
       "      <td>4</td>\n",
       "      <td>22.130</td>\n",
       "      <td>17.0</td>\n",
       "      <td>2021-06-01 04:03:00</td>\n",
       "      <td>2021-06-01 04:03:00</td>\n",
       "    </tr>\n",
       "    <tr>\n",
       "      <th>105</th>\n",
       "      <td>751</td>\n",
       "      <td>E4S 55,620</td>\n",
       "      <td>20210601</td>\n",
       "      <td>04:04:00</td>\n",
       "      <td>244</td>\n",
       "      <td>48</td>\n",
       "      <td>16</td>\n",
       "      <td>8</td>\n",
       "      <td>4</td>\n",
       "      <td>22.460</td>\n",
       "      <td>17.0</td>\n",
       "      <td>2021-06-01 04:04:00</td>\n",
       "      <td>2021-06-01 04:04:00</td>\n",
       "    </tr>\n",
       "    <tr>\n",
       "      <th>...</th>\n",
       "      <td>...</td>\n",
       "      <td>...</td>\n",
       "      <td>...</td>\n",
       "      <td>...</td>\n",
       "      <td>...</td>\n",
       "      <td>...</td>\n",
       "      <td>...</td>\n",
       "      <td>...</td>\n",
       "      <td>...</td>\n",
       "      <td>...</td>\n",
       "      <td>...</td>\n",
       "      <td>...</td>\n",
       "      <td>...</td>\n",
       "    </tr>\n",
       "    <tr>\n",
       "      <th>1921781</th>\n",
       "      <td>4496</td>\n",
       "      <td>E4S 58,140</td>\n",
       "      <td>20211231</td>\n",
       "      <td>09:54:00</td>\n",
       "      <td>594</td>\n",
       "      <td>118</td>\n",
       "      <td>39</td>\n",
       "      <td>19</td>\n",
       "      <td>9</td>\n",
       "      <td>15.280</td>\n",
       "      <td>1.0</td>\n",
       "      <td>2021-12-31 09:54:00</td>\n",
       "      <td>2021-12-31 09:54:00</td>\n",
       "    </tr>\n",
       "    <tr>\n",
       "      <th>1921818</th>\n",
       "      <td>4496</td>\n",
       "      <td>E4S 58,140</td>\n",
       "      <td>20211231</td>\n",
       "      <td>09:55:00</td>\n",
       "      <td>595</td>\n",
       "      <td>119</td>\n",
       "      <td>39</td>\n",
       "      <td>19</td>\n",
       "      <td>9</td>\n",
       "      <td>17.220</td>\n",
       "      <td>1.0</td>\n",
       "      <td>2021-12-31 09:55:00</td>\n",
       "      <td>2021-12-31 09:55:00</td>\n",
       "    </tr>\n",
       "    <tr>\n",
       "      <th>1921839</th>\n",
       "      <td>4496</td>\n",
       "      <td>E4S 58,140</td>\n",
       "      <td>20211231</td>\n",
       "      <td>09:56:00</td>\n",
       "      <td>596</td>\n",
       "      <td>119</td>\n",
       "      <td>39</td>\n",
       "      <td>19</td>\n",
       "      <td>9</td>\n",
       "      <td>18.330</td>\n",
       "      <td>2.0</td>\n",
       "      <td>2021-12-31 09:56:00</td>\n",
       "      <td>2021-12-31 09:56:00</td>\n",
       "    </tr>\n",
       "    <tr>\n",
       "      <th>1921893</th>\n",
       "      <td>4496</td>\n",
       "      <td>E4S 58,140</td>\n",
       "      <td>20211231</td>\n",
       "      <td>09:58:00</td>\n",
       "      <td>598</td>\n",
       "      <td>119</td>\n",
       "      <td>39</td>\n",
       "      <td>19</td>\n",
       "      <td>9</td>\n",
       "      <td>18.330</td>\n",
       "      <td>1.0</td>\n",
       "      <td>2021-12-31 09:58:00</td>\n",
       "      <td>2021-12-31 09:58:00</td>\n",
       "    </tr>\n",
       "    <tr>\n",
       "      <th>1921942</th>\n",
       "      <td>4496</td>\n",
       "      <td>E4S 58,140</td>\n",
       "      <td>20211231</td>\n",
       "      <td>10:00:00</td>\n",
       "      <td>600</td>\n",
       "      <td>120</td>\n",
       "      <td>40</td>\n",
       "      <td>20</td>\n",
       "      <td>10</td>\n",
       "      <td>18.610</td>\n",
       "      <td>1.5</td>\n",
       "      <td>2021-12-31 10:00:00</td>\n",
       "      <td>2021-12-31 10:00:00</td>\n",
       "    </tr>\n",
       "  </tbody>\n",
       "</table>\n",
       "<p>1921905 rows × 13 columns</p>\n",
       "</div>"
      ],
      "text/plain": [
       "         DP_ID      PORTAL      Date      Time  Interval_1  Interval_5  \\\n",
       "17         751  E4S 55,620  20210601  04:00:00         240          48   \n",
       "27         751  E4S 55,620  20210601  04:01:00         241          48   \n",
       "62         751  E4S 55,620  20210601  04:02:00         242          48   \n",
       "72         751  E4S 55,620  20210601  04:03:00         243          48   \n",
       "105        751  E4S 55,620  20210601  04:04:00         244          48   \n",
       "...        ...         ...       ...       ...         ...         ...   \n",
       "1921781   4496  E4S 58,140  20211231  09:54:00         594         118   \n",
       "1921818   4496  E4S 58,140  20211231  09:55:00         595         119   \n",
       "1921839   4496  E4S 58,140  20211231  09:56:00         596         119   \n",
       "1921893   4496  E4S 58,140  20211231  09:58:00         598         119   \n",
       "1921942   4496  E4S 58,140  20211231  10:00:00         600         120   \n",
       "\n",
       "         Interval_15  Interval_30  Interval_60  SPEED_MS_AVG  FLOW  \\\n",
       "17                16            8            4        21.895  16.0   \n",
       "27                16            8            4        21.530  18.0   \n",
       "62                16            8            4        22.260  17.0   \n",
       "72                16            8            4        22.130  17.0   \n",
       "105               16            8            4        22.460  17.0   \n",
       "...              ...          ...          ...           ...   ...   \n",
       "1921781           39           19            9        15.280   1.0   \n",
       "1921818           39           19            9        17.220   1.0   \n",
       "1921839           39           19            9        18.330   2.0   \n",
       "1921893           39           19            9        18.330   1.0   \n",
       "1921942           40           20           10        18.610   1.5   \n",
       "\n",
       "                   datetime           timestamp  \n",
       "17      2021-06-01 04:00:00 2021-06-01 04:00:00  \n",
       "27      2021-06-01 04:01:00 2021-06-01 04:01:00  \n",
       "62      2021-06-01 04:02:00 2021-06-01 04:02:00  \n",
       "72      2021-06-01 04:03:00 2021-06-01 04:03:00  \n",
       "105     2021-06-01 04:04:00 2021-06-01 04:04:00  \n",
       "...                     ...                 ...  \n",
       "1921781 2021-12-31 09:54:00 2021-12-31 09:54:00  \n",
       "1921818 2021-12-31 09:55:00 2021-12-31 09:55:00  \n",
       "1921839 2021-12-31 09:56:00 2021-12-31 09:56:00  \n",
       "1921893 2021-12-31 09:58:00 2021-12-31 09:58:00  \n",
       "1921942 2021-12-31 10:00:00 2021-12-31 10:00:00  \n",
       "\n",
       "[1921905 rows x 13 columns]"
      ]
     },
     "execution_count": 9,
     "metadata": {},
     "output_type": "execute_result"
    }
   ],
   "source": [
    "clean_training_df"
   ]
  },
  {
   "cell_type": "markdown",
   "metadata": {},
   "source": [
    "### Basic Transformations"
   ]
  },
  {
   "cell_type": "code",
   "execution_count": 10,
   "metadata": {},
   "outputs": [
    {
     "name": "stdout",
     "output_type": "stream",
     "text": [
      "[Check] Groups with conflicting non-aggregated fields: 0\n",
      "[Done] Aggregated over DP_ID within each (PORTAL, Date, Time).\n",
      "Result shape: (604026, 12)\n",
      "Columns: ['PORTAL', 'Date', 'Time', 'Interval_1', 'Interval_5', 'Interval_15', 'Interval_30', 'Interval_60', 'datetime', 'timestamp', 'FLOW', 'SPEED_MS_AVG']\n"
     ]
    },
    {
     "name": "stderr",
     "output_type": "stream",
     "text": [
      "/var/folders/ww/hnj0z7l577b2_jzdg6515pfm0000gn/T/ipykernel_12146/4065489054.py:53: DeprecationWarning:\n",
      "\n",
      "DataFrameGroupBy.apply operated on the grouping columns. This behavior is deprecated, and in a future version of pandas the grouping columns will be excluded from the operation. Either pass `include_groups=False` to exclude the groupings or explicitly select the grouping columns after groupby to silence this warning.\n",
      "\n"
     ]
    }
   ],
   "source": [
    "import numpy as np\n",
    "import pandas as pd\n",
    "\n",
    "# --- config ---\n",
    "STRICT = False   \n",
    "#df = training_df.copy()\n",
    "\n",
    "# Keys for aggregation (per your spec)\n",
    "group_keys = [\"PORTAL\", \"Date\", \"Time\"]\n",
    "\n",
    "# Columns that will be aggregated\n",
    "value_cols = [\"FLOW\", \"SPEED_MS_AVG\"]\n",
    "\n",
    "# Columns that must be identical within each (PORTAL, Date, Time) group\n",
    "const_cols = [c for c in clean_training_df.columns if c not in set(group_keys + value_cols + [\"DP_ID\"])]\n",
    "\n",
    "# 1) Check for conflicts: any const col with >1 unique value within a group\n",
    "nunique_per_group = (\n",
    "    clean_training_df.groupby(group_keys)[const_cols].nunique(dropna=False)\n",
    "    if const_cols else pd.DataFrame(index=clean_training_df.groupby(group_keys).size().index)\n",
    ")\n",
    "\n",
    "conflict_mask = (nunique_per_group > 1).any(axis=1) if not nunique_per_group.empty else pd.Series(False, index=df.groupby(group_keys).size().index)\n",
    "num_conflicting_groups = int(conflict_mask.sum())\n",
    "\n",
    "print(f\"[Check] Groups with conflicting non-aggregated fields: {num_conflicting_groups}\")\n",
    "\n",
    "# 2) Aggregation helpers\n",
    "def weighted_mean_speed(g: pd.DataFrame) -> float:\n",
    "    w = g[\"FLOW\"].values\n",
    "    x = g[\"SPEED_MS_AVG\"].values\n",
    "    wsum = np.nansum(w)\n",
    "    if wsum > 0:\n",
    "        return float(np.nansum(x * w) / wsum)\n",
    "    # fallback if all flows are zero/NaN\n",
    "    return float(np.nanmean(x))\n",
    "\n",
    "# 3) Build the aggregated rows\n",
    "def aggregate_group(g: pd.DataFrame) -> pd.Series:\n",
    "    out = {}\n",
    "    for c in const_cols:\n",
    "        out[c] = g[c].iloc[0]\n",
    "    # aggregations\n",
    "    out[\"FLOW\"] = g[\"FLOW\"].sum(skipna=True)\n",
    "    out[\"SPEED_MS_AVG\"] = weighted_mean_speed(g)\n",
    "    return pd.Series(out)\n",
    "\n",
    "agg_df = (\n",
    "    clean_training_df.groupby(group_keys, as_index=False)\n",
    "      .apply(aggregate_group)\n",
    "      .reset_index(drop=True)\n",
    ")\n",
    "\n",
    "# DP_ID is removed by construction (we aggregate over it)\n",
    "print(\"[Done] Aggregated over DP_ID within each (PORTAL, Date, Time).\")\n",
    "print(\"Result shape:\", agg_df.shape)\n",
    "print(\"Columns:\", list(agg_df.columns))\n"
   ]
  },
  {
   "cell_type": "code",
   "execution_count": 11,
   "metadata": {},
   "outputs": [
    {
     "data": {
      "text/html": [
       "<div>\n",
       "<style scoped>\n",
       "    .dataframe tbody tr th:only-of-type {\n",
       "        vertical-align: middle;\n",
       "    }\n",
       "\n",
       "    .dataframe tbody tr th {\n",
       "        vertical-align: top;\n",
       "    }\n",
       "\n",
       "    .dataframe thead th {\n",
       "        text-align: right;\n",
       "    }\n",
       "</style>\n",
       "<table border=\"1\" class=\"dataframe\">\n",
       "  <thead>\n",
       "    <tr style=\"text-align: right;\">\n",
       "      <th></th>\n",
       "      <th>PORTAL</th>\n",
       "      <th>Date</th>\n",
       "      <th>Time</th>\n",
       "      <th>Interval_1</th>\n",
       "      <th>Interval_5</th>\n",
       "      <th>Interval_15</th>\n",
       "      <th>Interval_30</th>\n",
       "      <th>Interval_60</th>\n",
       "      <th>datetime</th>\n",
       "      <th>timestamp</th>\n",
       "      <th>FLOW</th>\n",
       "      <th>SPEED_MS_AVG</th>\n",
       "    </tr>\n",
       "  </thead>\n",
       "  <tbody>\n",
       "    <tr>\n",
       "      <th>0</th>\n",
       "      <td>E4S 55,620</td>\n",
       "      <td>20210601</td>\n",
       "      <td>04:00:00</td>\n",
       "      <td>240</td>\n",
       "      <td>48</td>\n",
       "      <td>16</td>\n",
       "      <td>8</td>\n",
       "      <td>4</td>\n",
       "      <td>2021-06-01 04:00:00</td>\n",
       "      <td>2021-06-01 04:00:00</td>\n",
       "      <td>27.5</td>\n",
       "      <td>21.866455</td>\n",
       "    </tr>\n",
       "    <tr>\n",
       "      <th>1</th>\n",
       "      <td>E4S 55,620</td>\n",
       "      <td>20210601</td>\n",
       "      <td>04:01:00</td>\n",
       "      <td>241</td>\n",
       "      <td>48</td>\n",
       "      <td>16</td>\n",
       "      <td>8</td>\n",
       "      <td>4</td>\n",
       "      <td>2021-06-01 04:01:00</td>\n",
       "      <td>2021-06-01 04:01:00</td>\n",
       "      <td>34.0</td>\n",
       "      <td>21.745294</td>\n",
       "    </tr>\n",
       "    <tr>\n",
       "      <th>2</th>\n",
       "      <td>E4S 55,620</td>\n",
       "      <td>20210601</td>\n",
       "      <td>04:02:00</td>\n",
       "      <td>242</td>\n",
       "      <td>48</td>\n",
       "      <td>16</td>\n",
       "      <td>8</td>\n",
       "      <td>4</td>\n",
       "      <td>2021-06-01 04:02:00</td>\n",
       "      <td>2021-06-01 04:02:00</td>\n",
       "      <td>36.0</td>\n",
       "      <td>22.264722</td>\n",
       "    </tr>\n",
       "    <tr>\n",
       "      <th>3</th>\n",
       "      <td>E4S 55,620</td>\n",
       "      <td>20210601</td>\n",
       "      <td>04:03:00</td>\n",
       "      <td>243</td>\n",
       "      <td>48</td>\n",
       "      <td>16</td>\n",
       "      <td>8</td>\n",
       "      <td>4</td>\n",
       "      <td>2021-06-01 04:03:00</td>\n",
       "      <td>2021-06-01 04:03:00</td>\n",
       "      <td>34.0</td>\n",
       "      <td>22.370000</td>\n",
       "    </tr>\n",
       "    <tr>\n",
       "      <th>4</th>\n",
       "      <td>E4S 55,620</td>\n",
       "      <td>20210601</td>\n",
       "      <td>04:04:00</td>\n",
       "      <td>244</td>\n",
       "      <td>48</td>\n",
       "      <td>16</td>\n",
       "      <td>8</td>\n",
       "      <td>4</td>\n",
       "      <td>2021-06-01 04:04:00</td>\n",
       "      <td>2021-06-01 04:04:00</td>\n",
       "      <td>31.0</td>\n",
       "      <td>22.568387</td>\n",
       "    </tr>\n",
       "    <tr>\n",
       "      <th>...</th>\n",
       "      <td>...</td>\n",
       "      <td>...</td>\n",
       "      <td>...</td>\n",
       "      <td>...</td>\n",
       "      <td>...</td>\n",
       "      <td>...</td>\n",
       "      <td>...</td>\n",
       "      <td>...</td>\n",
       "      <td>...</td>\n",
       "      <td>...</td>\n",
       "      <td>...</td>\n",
       "      <td>...</td>\n",
       "    </tr>\n",
       "    <tr>\n",
       "      <th>604021</th>\n",
       "      <td>E4S 58,140</td>\n",
       "      <td>20211231</td>\n",
       "      <td>09:56:00</td>\n",
       "      <td>596</td>\n",
       "      <td>119</td>\n",
       "      <td>39</td>\n",
       "      <td>19</td>\n",
       "      <td>9</td>\n",
       "      <td>2021-12-31 09:56:00</td>\n",
       "      <td>2021-12-31 09:56:00</td>\n",
       "      <td>25.0</td>\n",
       "      <td>20.556400</td>\n",
       "    </tr>\n",
       "    <tr>\n",
       "      <th>604022</th>\n",
       "      <td>E4S 58,140</td>\n",
       "      <td>20211231</td>\n",
       "      <td>09:57:00</td>\n",
       "      <td>597</td>\n",
       "      <td>119</td>\n",
       "      <td>39</td>\n",
       "      <td>19</td>\n",
       "      <td>9</td>\n",
       "      <td>2021-12-31 09:57:00</td>\n",
       "      <td>2021-12-31 09:57:00</td>\n",
       "      <td>23.0</td>\n",
       "      <td>21.523913</td>\n",
       "    </tr>\n",
       "    <tr>\n",
       "      <th>604023</th>\n",
       "      <td>E4S 58,140</td>\n",
       "      <td>20211231</td>\n",
       "      <td>09:58:00</td>\n",
       "      <td>598</td>\n",
       "      <td>119</td>\n",
       "      <td>39</td>\n",
       "      <td>19</td>\n",
       "      <td>9</td>\n",
       "      <td>2021-12-31 09:58:00</td>\n",
       "      <td>2021-12-31 09:58:00</td>\n",
       "      <td>23.0</td>\n",
       "      <td>21.171739</td>\n",
       "    </tr>\n",
       "    <tr>\n",
       "      <th>604024</th>\n",
       "      <td>E4S 58,140</td>\n",
       "      <td>20211231</td>\n",
       "      <td>09:59:00</td>\n",
       "      <td>599</td>\n",
       "      <td>119</td>\n",
       "      <td>39</td>\n",
       "      <td>19</td>\n",
       "      <td>9</td>\n",
       "      <td>2021-12-31 09:59:00</td>\n",
       "      <td>2021-12-31 09:59:00</td>\n",
       "      <td>19.5</td>\n",
       "      <td>21.303846</td>\n",
       "    </tr>\n",
       "    <tr>\n",
       "      <th>604025</th>\n",
       "      <td>E4S 58,140</td>\n",
       "      <td>20211231</td>\n",
       "      <td>10:00:00</td>\n",
       "      <td>600</td>\n",
       "      <td>120</td>\n",
       "      <td>40</td>\n",
       "      <td>20</td>\n",
       "      <td>10</td>\n",
       "      <td>2021-12-31 10:00:00</td>\n",
       "      <td>2021-12-31 10:00:00</td>\n",
       "      <td>19.0</td>\n",
       "      <td>21.805000</td>\n",
       "    </tr>\n",
       "  </tbody>\n",
       "</table>\n",
       "<p>604026 rows × 12 columns</p>\n",
       "</div>"
      ],
      "text/plain": [
       "            PORTAL      Date      Time  Interval_1  Interval_5  Interval_15  \\\n",
       "0       E4S 55,620  20210601  04:00:00         240          48           16   \n",
       "1       E4S 55,620  20210601  04:01:00         241          48           16   \n",
       "2       E4S 55,620  20210601  04:02:00         242          48           16   \n",
       "3       E4S 55,620  20210601  04:03:00         243          48           16   \n",
       "4       E4S 55,620  20210601  04:04:00         244          48           16   \n",
       "...            ...       ...       ...         ...         ...          ...   \n",
       "604021  E4S 58,140  20211231  09:56:00         596         119           39   \n",
       "604022  E4S 58,140  20211231  09:57:00         597         119           39   \n",
       "604023  E4S 58,140  20211231  09:58:00         598         119           39   \n",
       "604024  E4S 58,140  20211231  09:59:00         599         119           39   \n",
       "604025  E4S 58,140  20211231  10:00:00         600         120           40   \n",
       "\n",
       "        Interval_30  Interval_60            datetime           timestamp  \\\n",
       "0                 8            4 2021-06-01 04:00:00 2021-06-01 04:00:00   \n",
       "1                 8            4 2021-06-01 04:01:00 2021-06-01 04:01:00   \n",
       "2                 8            4 2021-06-01 04:02:00 2021-06-01 04:02:00   \n",
       "3                 8            4 2021-06-01 04:03:00 2021-06-01 04:03:00   \n",
       "4                 8            4 2021-06-01 04:04:00 2021-06-01 04:04:00   \n",
       "...             ...          ...                 ...                 ...   \n",
       "604021           19            9 2021-12-31 09:56:00 2021-12-31 09:56:00   \n",
       "604022           19            9 2021-12-31 09:57:00 2021-12-31 09:57:00   \n",
       "604023           19            9 2021-12-31 09:58:00 2021-12-31 09:58:00   \n",
       "604024           19            9 2021-12-31 09:59:00 2021-12-31 09:59:00   \n",
       "604025           20           10 2021-12-31 10:00:00 2021-12-31 10:00:00   \n",
       "\n",
       "        FLOW  SPEED_MS_AVG  \n",
       "0       27.5     21.866455  \n",
       "1       34.0     21.745294  \n",
       "2       36.0     22.264722  \n",
       "3       34.0     22.370000  \n",
       "4       31.0     22.568387  \n",
       "...      ...           ...  \n",
       "604021  25.0     20.556400  \n",
       "604022  23.0     21.523913  \n",
       "604023  23.0     21.171739  \n",
       "604024  19.5     21.303846  \n",
       "604025  19.0     21.805000  \n",
       "\n",
       "[604026 rows x 12 columns]"
      ]
     },
     "execution_count": 11,
     "metadata": {},
     "output_type": "execute_result"
    }
   ],
   "source": [
    "agg_df"
   ]
  },
  {
   "cell_type": "code",
   "execution_count": 12,
   "metadata": {},
   "outputs": [
    {
     "name": "stdout",
     "output_type": "stream",
     "text": [
      "Unique portals in agg_df:\n",
      "['E4S 55,620' 'E4S 56,160' 'E4S 56,490' 'E4S 56,780' 'E4S 57,055'\n",
      " 'E4S 57,435' 'E4S 57,820' 'E4S 58,140']\n"
     ]
    }
   ],
   "source": [
    "print(\"Unique portals in agg_df:\")\n",
    "print(agg_df[\"PORTAL\"].unique())"
   ]
  },
  {
   "cell_type": "code",
   "execution_count": 13,
   "metadata": {},
   "outputs": [
    {
     "name": "stdout",
     "output_type": "stream",
     "text": [
      "PORTAL\n",
      "E4S 55,620    1\n",
      "E4S 56,160    1\n",
      "E4S 56,490    1\n",
      "E4S 56,780    1\n",
      "E4S 57,055    1\n",
      "E4S 57,435    1\n",
      "E4S 57,820    1\n",
      "E4S 58,140    1\n",
      "Name: PORTAL_NUM, dtype: int64\n",
      "            PORTAL  PORTAL_NUM\n",
      "0       E4S 55,620       55620\n",
      "74333   E4S 56,160       56160\n",
      "148548  E4S 56,490       56490\n",
      "224995  E4S 56,780       56780\n",
      "301341  E4S 57,055       57055\n",
      "375373  E4S 57,435       57435\n",
      "451462  E4S 57,820       57820\n",
      "527687  E4S 58,140       58140\n"
     ]
    }
   ],
   "source": [
    "import re\n",
    "\n",
    "# 1) Extract numeric part \n",
    "# Robust extraction: capture the trailing number block\n",
    "num_str = agg_df[\"PORTAL\"].str.extract(r'(\\d{2},\\d{3}|\\d+)$', expand=False)\n",
    "agg_df[\"PORTAL_NUM\"] = num_str.str.replace(\",\", \"\", regex=False).astype(int)\n",
    "\n",
    "# Quick sanity check: each portal should map to exactly one numeric value\n",
    "print(agg_df.groupby(\"PORTAL\")[\"PORTAL_NUM\"].nunique())\n",
    "print(agg_df[[\"PORTAL\", \"PORTAL_NUM\"]].drop_duplicates().sort_values(\"PORTAL\"))\n",
    "\n",
    "# 2) Define portal groups (based on your plan: 1, 2, (3+4), (5–8))\n",
    "portal_group_map = {\n",
    "    'E4S 55,620': 1,\n",
    "    'E4S 56,160': 2,\n",
    "    'E4S 56,490': 3,\n",
    "    'E4S 56,780': 3,\n",
    "    'E4S 57,055': 4,\n",
    "    'E4S 57,435': 4,\n",
    "    'E4S 57,820': 4,\n",
    "    'E4S 58,140': 4\n",
    "}\n",
    "agg_df[\"PORTAL_GROUP\"] = agg_df[\"PORTAL\"].map(portal_group_map)\n",
    "\n"
   ]
  },
  {
   "cell_type": "code",
   "execution_count": 14,
   "metadata": {},
   "outputs": [
    {
     "data": {
      "text/html": [
       "<div>\n",
       "<style scoped>\n",
       "    .dataframe tbody tr th:only-of-type {\n",
       "        vertical-align: middle;\n",
       "    }\n",
       "\n",
       "    .dataframe tbody tr th {\n",
       "        vertical-align: top;\n",
       "    }\n",
       "\n",
       "    .dataframe thead th {\n",
       "        text-align: right;\n",
       "    }\n",
       "</style>\n",
       "<table border=\"1\" class=\"dataframe\">\n",
       "  <thead>\n",
       "    <tr style=\"text-align: right;\">\n",
       "      <th></th>\n",
       "      <th>PORTAL</th>\n",
       "      <th>PORTAL_NUM</th>\n",
       "      <th>PORTAL_GROUP</th>\n",
       "    </tr>\n",
       "  </thead>\n",
       "  <tbody>\n",
       "    <tr>\n",
       "      <th>0</th>\n",
       "      <td>E4S 55,620</td>\n",
       "      <td>55620</td>\n",
       "      <td>1</td>\n",
       "    </tr>\n",
       "    <tr>\n",
       "      <th>74333</th>\n",
       "      <td>E4S 56,160</td>\n",
       "      <td>56160</td>\n",
       "      <td>2</td>\n",
       "    </tr>\n",
       "    <tr>\n",
       "      <th>148548</th>\n",
       "      <td>E4S 56,490</td>\n",
       "      <td>56490</td>\n",
       "      <td>3</td>\n",
       "    </tr>\n",
       "    <tr>\n",
       "      <th>224995</th>\n",
       "      <td>E4S 56,780</td>\n",
       "      <td>56780</td>\n",
       "      <td>3</td>\n",
       "    </tr>\n",
       "    <tr>\n",
       "      <th>301341</th>\n",
       "      <td>E4S 57,055</td>\n",
       "      <td>57055</td>\n",
       "      <td>4</td>\n",
       "    </tr>\n",
       "    <tr>\n",
       "      <th>375373</th>\n",
       "      <td>E4S 57,435</td>\n",
       "      <td>57435</td>\n",
       "      <td>4</td>\n",
       "    </tr>\n",
       "    <tr>\n",
       "      <th>451462</th>\n",
       "      <td>E4S 57,820</td>\n",
       "      <td>57820</td>\n",
       "      <td>4</td>\n",
       "    </tr>\n",
       "    <tr>\n",
       "      <th>527687</th>\n",
       "      <td>E4S 58,140</td>\n",
       "      <td>58140</td>\n",
       "      <td>4</td>\n",
       "    </tr>\n",
       "  </tbody>\n",
       "</table>\n",
       "</div>"
      ],
      "text/plain": [
       "            PORTAL  PORTAL_NUM  PORTAL_GROUP\n",
       "0       E4S 55,620       55620             1\n",
       "74333   E4S 56,160       56160             2\n",
       "148548  E4S 56,490       56490             3\n",
       "224995  E4S 56,780       56780             3\n",
       "301341  E4S 57,055       57055             4\n",
       "375373  E4S 57,435       57435             4\n",
       "451462  E4S 57,820       57820             4\n",
       "527687  E4S 58,140       58140             4"
      ]
     },
     "execution_count": 14,
     "metadata": {},
     "output_type": "execute_result"
    }
   ],
   "source": [
    "agg_df[[\"PORTAL\", \"PORTAL_NUM\", \"PORTAL_GROUP\"]].drop_duplicates()"
   ]
  },
  {
   "cell_type": "code",
   "execution_count": 15,
   "metadata": {},
   "outputs": [
    {
     "data": {
      "text/html": [
       "<div>\n",
       "<style scoped>\n",
       "    .dataframe tbody tr th:only-of-type {\n",
       "        vertical-align: middle;\n",
       "    }\n",
       "\n",
       "    .dataframe tbody tr th {\n",
       "        vertical-align: top;\n",
       "    }\n",
       "\n",
       "    .dataframe thead th {\n",
       "        text-align: right;\n",
       "    }\n",
       "</style>\n",
       "<table border=\"1\" class=\"dataframe\">\n",
       "  <thead>\n",
       "    <tr style=\"text-align: right;\">\n",
       "      <th></th>\n",
       "      <th>PORTAL</th>\n",
       "      <th>Date</th>\n",
       "      <th>Time</th>\n",
       "      <th>Interval_1</th>\n",
       "      <th>Interval_5</th>\n",
       "      <th>Interval_15</th>\n",
       "      <th>Interval_30</th>\n",
       "      <th>Interval_60</th>\n",
       "      <th>datetime</th>\n",
       "      <th>timestamp</th>\n",
       "      <th>FLOW</th>\n",
       "      <th>SPEED_MS_AVG</th>\n",
       "      <th>PORTAL_NUM</th>\n",
       "      <th>PORTAL_GROUP</th>\n",
       "    </tr>\n",
       "  </thead>\n",
       "  <tbody>\n",
       "    <tr>\n",
       "      <th>0</th>\n",
       "      <td>E4S 55,620</td>\n",
       "      <td>20210601</td>\n",
       "      <td>04:00:00</td>\n",
       "      <td>240</td>\n",
       "      <td>48</td>\n",
       "      <td>16</td>\n",
       "      <td>8</td>\n",
       "      <td>4</td>\n",
       "      <td>2021-06-01 04:00:00</td>\n",
       "      <td>2021-06-01 04:00:00</td>\n",
       "      <td>27.5</td>\n",
       "      <td>21.866455</td>\n",
       "      <td>55620</td>\n",
       "      <td>1</td>\n",
       "    </tr>\n",
       "    <tr>\n",
       "      <th>1</th>\n",
       "      <td>E4S 55,620</td>\n",
       "      <td>20210601</td>\n",
       "      <td>04:01:00</td>\n",
       "      <td>241</td>\n",
       "      <td>48</td>\n",
       "      <td>16</td>\n",
       "      <td>8</td>\n",
       "      <td>4</td>\n",
       "      <td>2021-06-01 04:01:00</td>\n",
       "      <td>2021-06-01 04:01:00</td>\n",
       "      <td>34.0</td>\n",
       "      <td>21.745294</td>\n",
       "      <td>55620</td>\n",
       "      <td>1</td>\n",
       "    </tr>\n",
       "    <tr>\n",
       "      <th>2</th>\n",
       "      <td>E4S 55,620</td>\n",
       "      <td>20210601</td>\n",
       "      <td>04:02:00</td>\n",
       "      <td>242</td>\n",
       "      <td>48</td>\n",
       "      <td>16</td>\n",
       "      <td>8</td>\n",
       "      <td>4</td>\n",
       "      <td>2021-06-01 04:02:00</td>\n",
       "      <td>2021-06-01 04:02:00</td>\n",
       "      <td>36.0</td>\n",
       "      <td>22.264722</td>\n",
       "      <td>55620</td>\n",
       "      <td>1</td>\n",
       "    </tr>\n",
       "    <tr>\n",
       "      <th>3</th>\n",
       "      <td>E4S 55,620</td>\n",
       "      <td>20210601</td>\n",
       "      <td>04:03:00</td>\n",
       "      <td>243</td>\n",
       "      <td>48</td>\n",
       "      <td>16</td>\n",
       "      <td>8</td>\n",
       "      <td>4</td>\n",
       "      <td>2021-06-01 04:03:00</td>\n",
       "      <td>2021-06-01 04:03:00</td>\n",
       "      <td>34.0</td>\n",
       "      <td>22.370000</td>\n",
       "      <td>55620</td>\n",
       "      <td>1</td>\n",
       "    </tr>\n",
       "    <tr>\n",
       "      <th>4</th>\n",
       "      <td>E4S 55,620</td>\n",
       "      <td>20210601</td>\n",
       "      <td>04:04:00</td>\n",
       "      <td>244</td>\n",
       "      <td>48</td>\n",
       "      <td>16</td>\n",
       "      <td>8</td>\n",
       "      <td>4</td>\n",
       "      <td>2021-06-01 04:04:00</td>\n",
       "      <td>2021-06-01 04:04:00</td>\n",
       "      <td>31.0</td>\n",
       "      <td>22.568387</td>\n",
       "      <td>55620</td>\n",
       "      <td>1</td>\n",
       "    </tr>\n",
       "    <tr>\n",
       "      <th>...</th>\n",
       "      <td>...</td>\n",
       "      <td>...</td>\n",
       "      <td>...</td>\n",
       "      <td>...</td>\n",
       "      <td>...</td>\n",
       "      <td>...</td>\n",
       "      <td>...</td>\n",
       "      <td>...</td>\n",
       "      <td>...</td>\n",
       "      <td>...</td>\n",
       "      <td>...</td>\n",
       "      <td>...</td>\n",
       "      <td>...</td>\n",
       "      <td>...</td>\n",
       "    </tr>\n",
       "    <tr>\n",
       "      <th>604021</th>\n",
       "      <td>E4S 58,140</td>\n",
       "      <td>20211231</td>\n",
       "      <td>09:56:00</td>\n",
       "      <td>596</td>\n",
       "      <td>119</td>\n",
       "      <td>39</td>\n",
       "      <td>19</td>\n",
       "      <td>9</td>\n",
       "      <td>2021-12-31 09:56:00</td>\n",
       "      <td>2021-12-31 09:56:00</td>\n",
       "      <td>25.0</td>\n",
       "      <td>20.556400</td>\n",
       "      <td>58140</td>\n",
       "      <td>4</td>\n",
       "    </tr>\n",
       "    <tr>\n",
       "      <th>604022</th>\n",
       "      <td>E4S 58,140</td>\n",
       "      <td>20211231</td>\n",
       "      <td>09:57:00</td>\n",
       "      <td>597</td>\n",
       "      <td>119</td>\n",
       "      <td>39</td>\n",
       "      <td>19</td>\n",
       "      <td>9</td>\n",
       "      <td>2021-12-31 09:57:00</td>\n",
       "      <td>2021-12-31 09:57:00</td>\n",
       "      <td>23.0</td>\n",
       "      <td>21.523913</td>\n",
       "      <td>58140</td>\n",
       "      <td>4</td>\n",
       "    </tr>\n",
       "    <tr>\n",
       "      <th>604023</th>\n",
       "      <td>E4S 58,140</td>\n",
       "      <td>20211231</td>\n",
       "      <td>09:58:00</td>\n",
       "      <td>598</td>\n",
       "      <td>119</td>\n",
       "      <td>39</td>\n",
       "      <td>19</td>\n",
       "      <td>9</td>\n",
       "      <td>2021-12-31 09:58:00</td>\n",
       "      <td>2021-12-31 09:58:00</td>\n",
       "      <td>23.0</td>\n",
       "      <td>21.171739</td>\n",
       "      <td>58140</td>\n",
       "      <td>4</td>\n",
       "    </tr>\n",
       "    <tr>\n",
       "      <th>604024</th>\n",
       "      <td>E4S 58,140</td>\n",
       "      <td>20211231</td>\n",
       "      <td>09:59:00</td>\n",
       "      <td>599</td>\n",
       "      <td>119</td>\n",
       "      <td>39</td>\n",
       "      <td>19</td>\n",
       "      <td>9</td>\n",
       "      <td>2021-12-31 09:59:00</td>\n",
       "      <td>2021-12-31 09:59:00</td>\n",
       "      <td>19.5</td>\n",
       "      <td>21.303846</td>\n",
       "      <td>58140</td>\n",
       "      <td>4</td>\n",
       "    </tr>\n",
       "    <tr>\n",
       "      <th>604025</th>\n",
       "      <td>E4S 58,140</td>\n",
       "      <td>20211231</td>\n",
       "      <td>10:00:00</td>\n",
       "      <td>600</td>\n",
       "      <td>120</td>\n",
       "      <td>40</td>\n",
       "      <td>20</td>\n",
       "      <td>10</td>\n",
       "      <td>2021-12-31 10:00:00</td>\n",
       "      <td>2021-12-31 10:00:00</td>\n",
       "      <td>19.0</td>\n",
       "      <td>21.805000</td>\n",
       "      <td>58140</td>\n",
       "      <td>4</td>\n",
       "    </tr>\n",
       "  </tbody>\n",
       "</table>\n",
       "<p>604026 rows × 14 columns</p>\n",
       "</div>"
      ],
      "text/plain": [
       "            PORTAL      Date      Time  Interval_1  Interval_5  Interval_15  \\\n",
       "0       E4S 55,620  20210601  04:00:00         240          48           16   \n",
       "1       E4S 55,620  20210601  04:01:00         241          48           16   \n",
       "2       E4S 55,620  20210601  04:02:00         242          48           16   \n",
       "3       E4S 55,620  20210601  04:03:00         243          48           16   \n",
       "4       E4S 55,620  20210601  04:04:00         244          48           16   \n",
       "...            ...       ...       ...         ...         ...          ...   \n",
       "604021  E4S 58,140  20211231  09:56:00         596         119           39   \n",
       "604022  E4S 58,140  20211231  09:57:00         597         119           39   \n",
       "604023  E4S 58,140  20211231  09:58:00         598         119           39   \n",
       "604024  E4S 58,140  20211231  09:59:00         599         119           39   \n",
       "604025  E4S 58,140  20211231  10:00:00         600         120           40   \n",
       "\n",
       "        Interval_30  Interval_60            datetime           timestamp  \\\n",
       "0                 8            4 2021-06-01 04:00:00 2021-06-01 04:00:00   \n",
       "1                 8            4 2021-06-01 04:01:00 2021-06-01 04:01:00   \n",
       "2                 8            4 2021-06-01 04:02:00 2021-06-01 04:02:00   \n",
       "3                 8            4 2021-06-01 04:03:00 2021-06-01 04:03:00   \n",
       "4                 8            4 2021-06-01 04:04:00 2021-06-01 04:04:00   \n",
       "...             ...          ...                 ...                 ...   \n",
       "604021           19            9 2021-12-31 09:56:00 2021-12-31 09:56:00   \n",
       "604022           19            9 2021-12-31 09:57:00 2021-12-31 09:57:00   \n",
       "604023           19            9 2021-12-31 09:58:00 2021-12-31 09:58:00   \n",
       "604024           19            9 2021-12-31 09:59:00 2021-12-31 09:59:00   \n",
       "604025           20           10 2021-12-31 10:00:00 2021-12-31 10:00:00   \n",
       "\n",
       "        FLOW  SPEED_MS_AVG  PORTAL_NUM  PORTAL_GROUP  \n",
       "0       27.5     21.866455       55620             1  \n",
       "1       34.0     21.745294       55620             1  \n",
       "2       36.0     22.264722       55620             1  \n",
       "3       34.0     22.370000       55620             1  \n",
       "4       31.0     22.568387       55620             1  \n",
       "...      ...           ...         ...           ...  \n",
       "604021  25.0     20.556400       58140             4  \n",
       "604022  23.0     21.523913       58140             4  \n",
       "604023  23.0     21.171739       58140             4  \n",
       "604024  19.5     21.303846       58140             4  \n",
       "604025  19.0     21.805000       58140             4  \n",
       "\n",
       "[604026 rows x 14 columns]"
      ]
     },
     "execution_count": 15,
     "metadata": {},
     "output_type": "execute_result"
    }
   ],
   "source": [
    "agg_df"
   ]
  },
  {
   "cell_type": "markdown",
   "metadata": {},
   "source": [
    "## Export"
   ]
  },
  {
   "cell_type": "code",
   "execution_count": 17,
   "metadata": {},
   "outputs": [
    {
     "name": "stdout",
     "output_type": "stream",
     "text": [
      "Saved agg_df\n"
     ]
    }
   ],
   "source": [
    "# Save agg_df to CSV\n",
    "agg_df.to_csv(\"../Data/training_dataset_preprocessed.csv\", index=False, sep=\";\")\n",
    "\n",
    "print(\"Saved agg_df\")\n"
   ]
  },
  {
   "cell_type": "markdown",
   "metadata": {},
   "source": []
  }
 ],
 "metadata": {
  "kernelspec": {
   "display_name": "Python (myenv)",
   "language": "python",
   "name": "myenv"
  },
  "language_info": {
   "codemirror_mode": {
    "name": "ipython",
    "version": 3
   },
   "file_extension": ".py",
   "mimetype": "text/x-python",
   "name": "python",
   "nbconvert_exporter": "python",
   "pygments_lexer": "ipython3",
   "version": "3.12.4"
  }
 },
 "nbformat": 4,
 "nbformat_minor": 2
}
